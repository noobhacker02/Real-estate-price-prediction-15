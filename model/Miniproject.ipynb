{
  "cells": [
    {
      "cell_type": "code",
      "execution_count": 1,
      "metadata": {
        "id": "ilhjMXLh_-mm"
      },
      "outputs": [],
      "source": [
        "import pandas as pd\n",
        "import matplotlib\n",
        "import matplotlib.pyplot as mp\n",
        "import numpy as np\n",
        "%matplotlib inline\n",
        "matplotlib.rcParams[\"figure.figsize\"] =(20,10)\n",
        "from ipywidgets.widgets import Label,Button\n",
        "from ipywidgets.widgets import Layout, HBox, VBox\n",
        "from IPython.display import display\n",
        "import bqplot as bq\n"
      ]
    },
    {
      "cell_type": "code",
      "execution_count": 2,
      "metadata": {
        "id": "7DdBxNuEAJ1b"
      },
      "outputs": [],
      "source": [
        "data = pd.read_csv(\"Mumbai1.csv\")"
      ]
    },
    {
      "cell_type": "code",
      "execution_count": 3,
      "metadata": {
        "colab": {
          "base_uri": "https://localhost:8080/",
          "height": 288
        },
        "id": "AGXRKXWyCgY8",
        "outputId": "6e3422e1-4211-41f2-8d21-6d021a9c14e2"
      },
      "outputs": [
        {
          "data": {
            "text/html": [
              "<div>\n",
              "<style scoped>\n",
              "    .dataframe tbody tr th:only-of-type {\n",
              "        vertical-align: middle;\n",
              "    }\n",
              "\n",
              "    .dataframe tbody tr th {\n",
              "        vertical-align: top;\n",
              "    }\n",
              "\n",
              "    .dataframe thead th {\n",
              "        text-align: right;\n",
              "    }\n",
              "</style>\n",
              "<table border=\"1\" class=\"dataframe\">\n",
              "  <thead>\n",
              "    <tr style=\"text-align: right;\">\n",
              "      <th></th>\n",
              "      <th>Unnamed: 0</th>\n",
              "      <th>Price</th>\n",
              "      <th>Area</th>\n",
              "      <th>Location</th>\n",
              "      <th>No. of Bedrooms</th>\n",
              "      <th>New/Resale</th>\n",
              "      <th>Gymnasium</th>\n",
              "      <th>Lift Available</th>\n",
              "      <th>Car Parking</th>\n",
              "      <th>Maintenance Staff</th>\n",
              "      <th>24x7 Security</th>\n",
              "      <th>Children's Play Area</th>\n",
              "      <th>Clubhouse</th>\n",
              "      <th>Intercom</th>\n",
              "      <th>Landscaped Gardens</th>\n",
              "      <th>Indoor Games</th>\n",
              "      <th>Gas Connection</th>\n",
              "      <th>Jogging Track</th>\n",
              "      <th>Swimming Pool</th>\n",
              "    </tr>\n",
              "  </thead>\n",
              "  <tbody>\n",
              "    <tr>\n",
              "      <th>0</th>\n",
              "      <td>0</td>\n",
              "      <td>4850000</td>\n",
              "      <td>720</td>\n",
              "      <td>Kharghar</td>\n",
              "      <td>1</td>\n",
              "      <td>0</td>\n",
              "      <td>0</td>\n",
              "      <td>1</td>\n",
              "      <td>1</td>\n",
              "      <td>1</td>\n",
              "      <td>1</td>\n",
              "      <td>0</td>\n",
              "      <td>0</td>\n",
              "      <td>0</td>\n",
              "      <td>0</td>\n",
              "      <td>0</td>\n",
              "      <td>0</td>\n",
              "      <td>0</td>\n",
              "      <td>0</td>\n",
              "    </tr>\n",
              "    <tr>\n",
              "      <th>1</th>\n",
              "      <td>1</td>\n",
              "      <td>4500000</td>\n",
              "      <td>600</td>\n",
              "      <td>Kharghar</td>\n",
              "      <td>1</td>\n",
              "      <td>0</td>\n",
              "      <td>1</td>\n",
              "      <td>1</td>\n",
              "      <td>1</td>\n",
              "      <td>1</td>\n",
              "      <td>1</td>\n",
              "      <td>0</td>\n",
              "      <td>1</td>\n",
              "      <td>0</td>\n",
              "      <td>0</td>\n",
              "      <td>0</td>\n",
              "      <td>0</td>\n",
              "      <td>1</td>\n",
              "      <td>1</td>\n",
              "    </tr>\n",
              "    <tr>\n",
              "      <th>2</th>\n",
              "      <td>2</td>\n",
              "      <td>6700000</td>\n",
              "      <td>650</td>\n",
              "      <td>Kharghar</td>\n",
              "      <td>1</td>\n",
              "      <td>0</td>\n",
              "      <td>1</td>\n",
              "      <td>1</td>\n",
              "      <td>1</td>\n",
              "      <td>1</td>\n",
              "      <td>1</td>\n",
              "      <td>1</td>\n",
              "      <td>1</td>\n",
              "      <td>1</td>\n",
              "      <td>0</td>\n",
              "      <td>0</td>\n",
              "      <td>0</td>\n",
              "      <td>1</td>\n",
              "      <td>1</td>\n",
              "    </tr>\n",
              "    <tr>\n",
              "      <th>3</th>\n",
              "      <td>3</td>\n",
              "      <td>4500000</td>\n",
              "      <td>650</td>\n",
              "      <td>Kharghar</td>\n",
              "      <td>1</td>\n",
              "      <td>0</td>\n",
              "      <td>0</td>\n",
              "      <td>1</td>\n",
              "      <td>1</td>\n",
              "      <td>1</td>\n",
              "      <td>1</td>\n",
              "      <td>0</td>\n",
              "      <td>0</td>\n",
              "      <td>1</td>\n",
              "      <td>1</td>\n",
              "      <td>0</td>\n",
              "      <td>0</td>\n",
              "      <td>0</td>\n",
              "      <td>0</td>\n",
              "    </tr>\n",
              "    <tr>\n",
              "      <th>4</th>\n",
              "      <td>4</td>\n",
              "      <td>5000000</td>\n",
              "      <td>665</td>\n",
              "      <td>Kharghar</td>\n",
              "      <td>1</td>\n",
              "      <td>0</td>\n",
              "      <td>0</td>\n",
              "      <td>1</td>\n",
              "      <td>1</td>\n",
              "      <td>1</td>\n",
              "      <td>1</td>\n",
              "      <td>0</td>\n",
              "      <td>0</td>\n",
              "      <td>1</td>\n",
              "      <td>1</td>\n",
              "      <td>0</td>\n",
              "      <td>0</td>\n",
              "      <td>0</td>\n",
              "      <td>0</td>\n",
              "    </tr>\n",
              "  </tbody>\n",
              "</table>\n",
              "</div>"
            ],
            "text/plain": [
              "   Unnamed: 0    Price  Area  Location  No. of Bedrooms  New/Resale  \\\n",
              "0           0  4850000   720  Kharghar                1           0   \n",
              "1           1  4500000   600  Kharghar                1           0   \n",
              "2           2  6700000   650  Kharghar                1           0   \n",
              "3           3  4500000   650  Kharghar                1           0   \n",
              "4           4  5000000   665  Kharghar                1           0   \n",
              "\n",
              "   Gymnasium  Lift Available  Car Parking  Maintenance Staff  24x7 Security  \\\n",
              "0          0               1            1                  1              1   \n",
              "1          1               1            1                  1              1   \n",
              "2          1               1            1                  1              1   \n",
              "3          0               1            1                  1              1   \n",
              "4          0               1            1                  1              1   \n",
              "\n",
              "   Children's Play Area  Clubhouse  Intercom  Landscaped Gardens  \\\n",
              "0                     0          0         0                   0   \n",
              "1                     0          1         0                   0   \n",
              "2                     1          1         1                   0   \n",
              "3                     0          0         1                   1   \n",
              "4                     0          0         1                   1   \n",
              "\n",
              "   Indoor Games  Gas Connection  Jogging Track  Swimming Pool  \n",
              "0             0               0              0              0  \n",
              "1             0               0              1              1  \n",
              "2             0               0              1              1  \n",
              "3             0               0              0              0  \n",
              "4             0               0              0              0  "
            ]
          },
          "execution_count": 3,
          "metadata": {},
          "output_type": "execute_result"
        }
      ],
      "source": [
        "data.head()"
      ]
    },
    {
      "cell_type": "code",
      "execution_count": 4,
      "metadata": {
        "colab": {
          "base_uri": "https://localhost:8080/"
        },
        "id": "4XwfamWqD1Bl",
        "outputId": "d323271b-47f1-483b-db87-5aea239cf20c"
      },
      "outputs": [
        {
          "data": {
            "text/plain": [
              "(6347, 19)"
            ]
          },
          "execution_count": 4,
          "metadata": {},
          "output_type": "execute_result"
        }
      ],
      "source": [
        "data.shape"
      ]
    },
    {
      "cell_type": "code",
      "execution_count": 5,
      "metadata": {
        "colab": {
          "base_uri": "https://localhost:8080/"
        },
        "id": "OTUfkrGoCqlf",
        "outputId": "ac6c0244-1933-41a9-fdc5-05669b6c14a5"
      },
      "outputs": [
        {
          "data": {
            "text/plain": [
              "Area\n",
              "200     2\n",
              "216     1\n",
              "220     3\n",
              "225     6\n",
              "239     1\n",
              "       ..\n",
              "6381    1\n",
              "6900    1\n",
              "7000    1\n",
              "7600    1\n",
              "8511    1\n",
              "Name: Area, Length: 1140, dtype: int64"
            ]
          },
          "execution_count": 5,
          "metadata": {},
          "output_type": "execute_result"
        }
      ],
      "source": [
        "data.groupby(\"Area\")['Area'].agg('count')"
      ]
    },
    {
      "cell_type": "code",
      "execution_count": 6,
      "metadata": {
        "colab": {
          "base_uri": "https://localhost:8080/"
        },
        "id": "NtsdOUT1DqiF",
        "outputId": "0ad84d32-d86a-4904-a3d5-545f3b23b7a9"
      },
      "outputs": [
        {
          "data": {
            "text/plain": [
              "Car Parking\n",
              "0    2774\n",
              "1    3573\n",
              "Name: Car Parking, dtype: int64"
            ]
          },
          "execution_count": 6,
          "metadata": {},
          "output_type": "execute_result"
        }
      ],
      "source": [
        "data.groupby(\"Car Parking\")['Car Parking'].agg('count')"
      ]
    },
    {
      "cell_type": "code",
      "execution_count": 7,
      "metadata": {
        "colab": {
          "base_uri": "https://localhost:8080/"
        },
        "id": "41qCk_a2-ylW",
        "outputId": "317992c9-fd50-4cb2-e6cf-8688e820e3a2"
      },
      "outputs": [
        {
          "data": {
            "text/plain": [
              "Landscaped Gardens\n",
              "0    4058\n",
              "1    2289\n",
              "Name: Landscaped Gardens, dtype: int64"
            ]
          },
          "execution_count": 7,
          "metadata": {},
          "output_type": "execute_result"
        }
      ],
      "source": [
        "data.groupby(\"Landscaped Gardens\")['Landscaped Gardens'].agg('count')"
      ]
    },
    {
      "cell_type": "code",
      "execution_count": 8,
      "metadata": {
        "colab": {
          "base_uri": "https://localhost:8080/"
        },
        "id": "ZFp70aCJ_nSk",
        "outputId": "50a65591-86bf-48c7-e50a-aa8afb2149d4"
      },
      "outputs": [
        {
          "data": {
            "text/plain": [
              "Swimming Pool\n",
              "0    3438\n",
              "1    2909\n",
              "Name: Swimming Pool, dtype: int64"
            ]
          },
          "execution_count": 8,
          "metadata": {},
          "output_type": "execute_result"
        }
      ],
      "source": [
        "data.groupby(\"Swimming Pool\")['Swimming Pool'].agg('count')"
      ]
    },
    {
      "cell_type": "code",
      "execution_count": 9,
      "metadata": {
        "colab": {
          "base_uri": "https://localhost:8080/",
          "height": 206
        },
        "id": "eqfEVKEEpbfk",
        "outputId": "b3e26e77-8182-4ec8-8325-7020fab39a3d"
      },
      "outputs": [
        {
          "data": {
            "text/html": [
              "<div>\n",
              "<style scoped>\n",
              "    .dataframe tbody tr th:only-of-type {\n",
              "        vertical-align: middle;\n",
              "    }\n",
              "\n",
              "    .dataframe tbody tr th {\n",
              "        vertical-align: top;\n",
              "    }\n",
              "\n",
              "    .dataframe thead th {\n",
              "        text-align: right;\n",
              "    }\n",
              "</style>\n",
              "<table border=\"1\" class=\"dataframe\">\n",
              "  <thead>\n",
              "    <tr style=\"text-align: right;\">\n",
              "      <th></th>\n",
              "      <th>Price</th>\n",
              "      <th>Area</th>\n",
              "      <th>Location</th>\n",
              "      <th>No. of Bedrooms</th>\n",
              "      <th>Lift Available</th>\n",
              "      <th>Car Parking</th>\n",
              "      <th>Children's Play Area</th>\n",
              "    </tr>\n",
              "  </thead>\n",
              "  <tbody>\n",
              "    <tr>\n",
              "      <th>4977</th>\n",
              "      <td>3100000</td>\n",
              "      <td>605</td>\n",
              "      <td>Nala Sopara</td>\n",
              "      <td>1</td>\n",
              "      <td>1</td>\n",
              "      <td>0</td>\n",
              "      <td>1</td>\n",
              "    </tr>\n",
              "    <tr>\n",
              "      <th>3545</th>\n",
              "      <td>51500000</td>\n",
              "      <td>1640</td>\n",
              "      <td>Andheri West</td>\n",
              "      <td>3</td>\n",
              "      <td>0</td>\n",
              "      <td>0</td>\n",
              "      <td>0</td>\n",
              "    </tr>\n",
              "    <tr>\n",
              "      <th>3779</th>\n",
              "      <td>12000000</td>\n",
              "      <td>1560</td>\n",
              "      <td>Kalyan West</td>\n",
              "      <td>3</td>\n",
              "      <td>1</td>\n",
              "      <td>0</td>\n",
              "      <td>1</td>\n",
              "    </tr>\n",
              "    <tr>\n",
              "      <th>647</th>\n",
              "      <td>12000000</td>\n",
              "      <td>560</td>\n",
              "      <td>Kandivali East</td>\n",
              "      <td>2</td>\n",
              "      <td>1</td>\n",
              "      <td>1</td>\n",
              "      <td>0</td>\n",
              "    </tr>\n",
              "    <tr>\n",
              "      <th>776</th>\n",
              "      <td>6500000</td>\n",
              "      <td>650</td>\n",
              "      <td>Nerul</td>\n",
              "      <td>1</td>\n",
              "      <td>0</td>\n",
              "      <td>1</td>\n",
              "      <td>0</td>\n",
              "    </tr>\n",
              "  </tbody>\n",
              "</table>\n",
              "</div>"
            ],
            "text/plain": [
              "         Price  Area        Location  No. of Bedrooms  Lift Available  \\\n",
              "4977   3100000   605     Nala Sopara                1               1   \n",
              "3545  51500000  1640    Andheri West                3               0   \n",
              "3779  12000000  1560     Kalyan West                3               1   \n",
              "647   12000000   560  Kandivali East                2               1   \n",
              "776    6500000   650           Nerul                1               0   \n",
              "\n",
              "      Car Parking  Children's Play Area  \n",
              "4977            0                     1  \n",
              "3545            0                     0  \n",
              "3779            0                     1  \n",
              "647             1                     0  \n",
              "776             1                     0  "
            ]
          },
          "execution_count": 9,
          "metadata": {},
          "output_type": "execute_result"
        }
      ],
      "source": [
        "new_data_1 = data.drop([\"Gymnasium\",\"Intercom\",\"Indoor Games\",\"Jogging Track\",\"Clubhouse\",\"Gas Connection\",\"Unnamed: 0\",\"24x7 Security\",\"Maintenance Staff\",\"Landscaped Gardens\",\"Swimming Pool\",\"New/Resale\"],axis='columns')\n",
        "new_data_1.sample(5)"
      ]
    },
    {
      "cell_type": "code",
      "execution_count": 10,
      "metadata": {},
      "outputs": [
        {
          "data": {
            "text/html": [
              "<div>\n",
              "<style scoped>\n",
              "    .dataframe tbody tr th:only-of-type {\n",
              "        vertical-align: middle;\n",
              "    }\n",
              "\n",
              "    .dataframe tbody tr th {\n",
              "        vertical-align: top;\n",
              "    }\n",
              "\n",
              "    .dataframe thead th {\n",
              "        text-align: right;\n",
              "    }\n",
              "</style>\n",
              "<table border=\"1\" class=\"dataframe\">\n",
              "  <thead>\n",
              "    <tr style=\"text-align: right;\">\n",
              "      <th></th>\n",
              "      <th>Price</th>\n",
              "      <th>Area</th>\n",
              "      <th>Location</th>\n",
              "      <th>No. of Bedrooms</th>\n",
              "      <th>Lift Available</th>\n",
              "      <th>Car Parking</th>\n",
              "    </tr>\n",
              "  </thead>\n",
              "  <tbody>\n",
              "    <tr>\n",
              "      <th>1029</th>\n",
              "      <td>4400000</td>\n",
              "      <td>665</td>\n",
              "      <td>Sector 17 Ulwe</td>\n",
              "      <td>1</td>\n",
              "      <td>0</td>\n",
              "      <td>0</td>\n",
              "    </tr>\n",
              "    <tr>\n",
              "      <th>2301</th>\n",
              "      <td>32500000</td>\n",
              "      <td>1278</td>\n",
              "      <td>Ville Parle East</td>\n",
              "      <td>2</td>\n",
              "      <td>1</td>\n",
              "      <td>0</td>\n",
              "    </tr>\n",
              "    <tr>\n",
              "      <th>6190</th>\n",
              "      <td>13000000</td>\n",
              "      <td>1050</td>\n",
              "      <td>Kharghar</td>\n",
              "      <td>2</td>\n",
              "      <td>1</td>\n",
              "      <td>1</td>\n",
              "    </tr>\n",
              "    <tr>\n",
              "      <th>1440</th>\n",
              "      <td>39000000</td>\n",
              "      <td>1627</td>\n",
              "      <td>Borivali West</td>\n",
              "      <td>3</td>\n",
              "      <td>0</td>\n",
              "      <td>0</td>\n",
              "    </tr>\n",
              "    <tr>\n",
              "      <th>3156</th>\n",
              "      <td>8900000</td>\n",
              "      <td>1690</td>\n",
              "      <td>Panvel</td>\n",
              "      <td>3</td>\n",
              "      <td>1</td>\n",
              "      <td>1</td>\n",
              "    </tr>\n",
              "  </tbody>\n",
              "</table>\n",
              "</div>"
            ],
            "text/plain": [
              "         Price  Area          Location  No. of Bedrooms  Lift Available  \\\n",
              "1029   4400000   665    Sector 17 Ulwe                1               0   \n",
              "2301  32500000  1278  Ville Parle East                2               1   \n",
              "6190  13000000  1050          Kharghar                2               1   \n",
              "1440  39000000  1627     Borivali West                3               0   \n",
              "3156   8900000  1690            Panvel                3               1   \n",
              "\n",
              "      Car Parking  \n",
              "1029            0  \n",
              "2301            0  \n",
              "6190            1  \n",
              "1440            0  \n",
              "3156            1  "
            ]
          },
          "execution_count": 10,
          "metadata": {},
          "output_type": "execute_result"
        }
      ],
      "source": [
        "new_data = new_data_1.drop([\"Children's Play Area\"],axis='columns')\n",
        "new_data.sample(5)"
      ]
    },
    {
      "cell_type": "code",
      "execution_count": 11,
      "metadata": {
        "colab": {
          "base_uri": "https://localhost:8080/"
        },
        "id": "yJjynT1GqELn",
        "outputId": "07cc6af0-d695-47ab-d70f-210488c8a8c0"
      },
      "outputs": [
        {
          "data": {
            "text/plain": [
              "Price              0\n",
              "Area               0\n",
              "Location           0\n",
              "No. of Bedrooms    0\n",
              "Lift Available     0\n",
              "Car Parking        0\n",
              "dtype: int64"
            ]
          },
          "execution_count": 11,
          "metadata": {},
          "output_type": "execute_result"
        }
      ],
      "source": [
        "#data cleaning\n",
        "new_data.isnull().sum()"
      ]
    },
    {
      "cell_type": "code",
      "execution_count": 12,
      "metadata": {},
      "outputs": [
        {
          "data": {
            "text/plain": [
              "240"
            ]
          },
          "execution_count": 12,
          "metadata": {},
          "output_type": "execute_result"
        }
      ],
      "source": [
        "new_data.duplicated().sum()"
      ]
    },
    {
      "cell_type": "code",
      "execution_count": 13,
      "metadata": {
        "colab": {
          "base_uri": "https://localhost:8080/"
        },
        "id": "_fN79Eu-rEAI",
        "outputId": "db0807cd-12ce-4c86-e45c-22fb266dd44d"
      },
      "outputs": [
        {
          "data": {
            "text/plain": [
              "Index(['Price', 'Area', 'Location', 'No. of Bedrooms', 'Lift Available',\n",
              "       'Car Parking'],\n",
              "      dtype='object')"
            ]
          },
          "execution_count": 13,
          "metadata": {},
          "output_type": "execute_result"
        }
      ],
      "source": [
        "new_data.columns"
      ]
    },
    {
      "cell_type": "code",
      "execution_count": 14,
      "metadata": {
        "id": "dfrg4rvDszY6"
      },
      "outputs": [],
      "source": [
        "new_data.rename(columns = {'No. of Bedrooms':'bhk'}, inplace= True)"
      ]
    },
    {
      "cell_type": "code",
      "execution_count": 15,
      "metadata": {
        "id": "dl82jih4kkbh"
      },
      "outputs": [],
      "source": [
        "new_data.rename(columns = {'Lift Available':'Lift'}, inplace= True)"
      ]
    },
    {
      "cell_type": "code",
      "execution_count": 16,
      "metadata": {
        "id": "OmAgXbACkrKo"
      },
      "outputs": [],
      "source": [
        "new_data.rename(columns = {'Car Parking':'Parking'}, inplace= True)"
      ]
    },
    {
      "cell_type": "code",
      "execution_count": 17,
      "metadata": {
        "id": "uKeEQ_AfmFiB"
      },
      "outputs": [],
      "source": [
        "new_data.rename(columns = {\"Children's Play Area\":'PlayArea'}, inplace= True)"
      ]
    },
    {
      "cell_type": "code",
      "execution_count": 18,
      "metadata": {
        "colab": {
          "base_uri": "https://localhost:8080/",
          "height": 49
        },
        "id": "lWGru9VotMWw",
        "outputId": "f33dc80f-1ccf-4a22-bcf0-0d2107a43913"
      },
      "outputs": [
        {
          "data": {
            "text/html": [
              "<div>\n",
              "<style scoped>\n",
              "    .dataframe tbody tr th:only-of-type {\n",
              "        vertical-align: middle;\n",
              "    }\n",
              "\n",
              "    .dataframe tbody tr th {\n",
              "        vertical-align: top;\n",
              "    }\n",
              "\n",
              "    .dataframe thead th {\n",
              "        text-align: right;\n",
              "    }\n",
              "</style>\n",
              "<table border=\"1\" class=\"dataframe\">\n",
              "  <thead>\n",
              "    <tr style=\"text-align: right;\">\n",
              "      <th></th>\n",
              "      <th>Price</th>\n",
              "      <th>Area</th>\n",
              "      <th>Location</th>\n",
              "      <th>bhk</th>\n",
              "      <th>Lift</th>\n",
              "      <th>Parking</th>\n",
              "    </tr>\n",
              "  </thead>\n",
              "  <tbody>\n",
              "  </tbody>\n",
              "</table>\n",
              "</div>"
            ],
            "text/plain": [
              "Empty DataFrame\n",
              "Columns: [Price, Area, Location, bhk, Lift, Parking]\n",
              "Index: []"
            ]
          },
          "execution_count": 18,
          "metadata": {},
          "output_type": "execute_result"
        }
      ],
      "source": [
        "new_data[new_data.bhk>10]"
      ]
    },
    {
      "cell_type": "code",
      "execution_count": 19,
      "metadata": {
        "colab": {
          "base_uri": "https://localhost:8080/"
        },
        "id": "AzBzbGLvt3i1",
        "outputId": "e9536bee-0dff-4dd8-cdd9-ae25398d8b86"
      },
      "outputs": [
        {
          "data": {
            "text/plain": [
              "array([ 720,  600,  650, ...,  250, 1162,  435], dtype=int64)"
            ]
          },
          "execution_count": 19,
          "metadata": {},
          "output_type": "execute_result"
        }
      ],
      "source": [
        "new_data.Area.unique()"
      ]
    },
    {
      "cell_type": "code",
      "execution_count": 20,
      "metadata": {},
      "outputs": [],
      "source": [
        "def is_float(x):\n",
        "    try:\n",
        "        float(x)\n",
        "    except:\n",
        "        return False\n",
        "    return True"
      ]
    },
    {
      "cell_type": "code",
      "execution_count": 21,
      "metadata": {
        "id": "hp-pxn7bveNu"
      },
      "outputs": [],
      "source": [
        "new_data['price_per_sqft'] = new_data['Price']/new_data['Area']"
      ]
    },
    {
      "cell_type": "code",
      "execution_count": 22,
      "metadata": {},
      "outputs": [
        {
          "data": {
            "text/html": [
              "<div>\n",
              "<style scoped>\n",
              "    .dataframe tbody tr th:only-of-type {\n",
              "        vertical-align: middle;\n",
              "    }\n",
              "\n",
              "    .dataframe tbody tr th {\n",
              "        vertical-align: top;\n",
              "    }\n",
              "\n",
              "    .dataframe thead th {\n",
              "        text-align: right;\n",
              "    }\n",
              "</style>\n",
              "<table border=\"1\" class=\"dataframe\">\n",
              "  <thead>\n",
              "    <tr style=\"text-align: right;\">\n",
              "      <th></th>\n",
              "      <th>Price</th>\n",
              "      <th>Area</th>\n",
              "      <th>Location</th>\n",
              "      <th>bhk</th>\n",
              "      <th>Lift</th>\n",
              "      <th>Parking</th>\n",
              "      <th>price_per_sqft</th>\n",
              "    </tr>\n",
              "  </thead>\n",
              "  <tbody>\n",
              "  </tbody>\n",
              "</table>\n",
              "</div>"
            ],
            "text/plain": [
              "Empty DataFrame\n",
              "Columns: [Price, Area, Location, bhk, Lift, Parking, price_per_sqft]\n",
              "Index: []"
            ]
          },
          "execution_count": 22,
          "metadata": {},
          "output_type": "execute_result"
        }
      ],
      "source": [
        "new_data[~new_data['price_per_sqft'].apply(is_float)].head(10)"
      ]
    },
    {
      "cell_type": "code",
      "execution_count": 23,
      "metadata": {
        "colab": {
          "base_uri": "https://localhost:8080/",
          "height": 363
        },
        "id": "CFt-1ubwwQ9f",
        "outputId": "d1d0133d-f233-42f8-fb7c-994a7f214acf"
      },
      "outputs": [
        {
          "data": {
            "text/html": [
              "<div>\n",
              "<style scoped>\n",
              "    .dataframe tbody tr th:only-of-type {\n",
              "        vertical-align: middle;\n",
              "    }\n",
              "\n",
              "    .dataframe tbody tr th {\n",
              "        vertical-align: top;\n",
              "    }\n",
              "\n",
              "    .dataframe thead th {\n",
              "        text-align: right;\n",
              "    }\n",
              "</style>\n",
              "<table border=\"1\" class=\"dataframe\">\n",
              "  <thead>\n",
              "    <tr style=\"text-align: right;\">\n",
              "      <th></th>\n",
              "      <th>Price</th>\n",
              "      <th>Area</th>\n",
              "      <th>Location</th>\n",
              "      <th>bhk</th>\n",
              "      <th>Lift</th>\n",
              "      <th>Parking</th>\n",
              "      <th>price_per_sqft</th>\n",
              "    </tr>\n",
              "  </thead>\n",
              "  <tbody>\n",
              "    <tr>\n",
              "      <th>0</th>\n",
              "      <td>4850000</td>\n",
              "      <td>720</td>\n",
              "      <td>Kharghar</td>\n",
              "      <td>1</td>\n",
              "      <td>1</td>\n",
              "      <td>1</td>\n",
              "      <td>6736.111111</td>\n",
              "    </tr>\n",
              "    <tr>\n",
              "      <th>1</th>\n",
              "      <td>4500000</td>\n",
              "      <td>600</td>\n",
              "      <td>Kharghar</td>\n",
              "      <td>1</td>\n",
              "      <td>1</td>\n",
              "      <td>1</td>\n",
              "      <td>7500.000000</td>\n",
              "    </tr>\n",
              "    <tr>\n",
              "      <th>2</th>\n",
              "      <td>6700000</td>\n",
              "      <td>650</td>\n",
              "      <td>Kharghar</td>\n",
              "      <td>1</td>\n",
              "      <td>1</td>\n",
              "      <td>1</td>\n",
              "      <td>10307.692308</td>\n",
              "    </tr>\n",
              "    <tr>\n",
              "      <th>3</th>\n",
              "      <td>4500000</td>\n",
              "      <td>650</td>\n",
              "      <td>Kharghar</td>\n",
              "      <td>1</td>\n",
              "      <td>1</td>\n",
              "      <td>1</td>\n",
              "      <td>6923.076923</td>\n",
              "    </tr>\n",
              "    <tr>\n",
              "      <th>4</th>\n",
              "      <td>5000000</td>\n",
              "      <td>665</td>\n",
              "      <td>Kharghar</td>\n",
              "      <td>1</td>\n",
              "      <td>1</td>\n",
              "      <td>1</td>\n",
              "      <td>7518.796992</td>\n",
              "    </tr>\n",
              "    <tr>\n",
              "      <th>5</th>\n",
              "      <td>17000000</td>\n",
              "      <td>2000</td>\n",
              "      <td>Kharghar</td>\n",
              "      <td>4</td>\n",
              "      <td>1</td>\n",
              "      <td>1</td>\n",
              "      <td>8500.000000</td>\n",
              "    </tr>\n",
              "    <tr>\n",
              "      <th>6</th>\n",
              "      <td>12500000</td>\n",
              "      <td>1550</td>\n",
              "      <td>Kharghar</td>\n",
              "      <td>3</td>\n",
              "      <td>1</td>\n",
              "      <td>1</td>\n",
              "      <td>8064.516129</td>\n",
              "    </tr>\n",
              "    <tr>\n",
              "      <th>7</th>\n",
              "      <td>10500000</td>\n",
              "      <td>1370</td>\n",
              "      <td>Sector-13 Kharghar</td>\n",
              "      <td>3</td>\n",
              "      <td>1</td>\n",
              "      <td>1</td>\n",
              "      <td>7664.233577</td>\n",
              "    </tr>\n",
              "    <tr>\n",
              "      <th>8</th>\n",
              "      <td>10500000</td>\n",
              "      <td>1356</td>\n",
              "      <td>Kharghar</td>\n",
              "      <td>3</td>\n",
              "      <td>1</td>\n",
              "      <td>1</td>\n",
              "      <td>7743.362832</td>\n",
              "    </tr>\n",
              "    <tr>\n",
              "      <th>9</th>\n",
              "      <td>15000000</td>\n",
              "      <td>1680</td>\n",
              "      <td>Kharghar</td>\n",
              "      <td>3</td>\n",
              "      <td>1</td>\n",
              "      <td>1</td>\n",
              "      <td>8928.571429</td>\n",
              "    </tr>\n",
              "  </tbody>\n",
              "</table>\n",
              "</div>"
            ],
            "text/plain": [
              "      Price  Area            Location  bhk  Lift  Parking  price_per_sqft\n",
              "0   4850000   720            Kharghar    1     1        1     6736.111111\n",
              "1   4500000   600            Kharghar    1     1        1     7500.000000\n",
              "2   6700000   650            Kharghar    1     1        1    10307.692308\n",
              "3   4500000   650            Kharghar    1     1        1     6923.076923\n",
              "4   5000000   665            Kharghar    1     1        1     7518.796992\n",
              "5  17000000  2000            Kharghar    4     1        1     8500.000000\n",
              "6  12500000  1550            Kharghar    3     1        1     8064.516129\n",
              "7  10500000  1370  Sector-13 Kharghar    3     1        1     7664.233577\n",
              "8  10500000  1356            Kharghar    3     1        1     7743.362832\n",
              "9  15000000  1680            Kharghar    3     1        1     8928.571429"
            ]
          },
          "execution_count": 23,
          "metadata": {},
          "output_type": "execute_result"
        }
      ],
      "source": [
        "new_data.head(10)"
      ]
    },
    {
      "cell_type": "code",
      "execution_count": 24,
      "metadata": {
        "colab": {
          "base_uri": "https://localhost:8080/"
        },
        "id": "1HYS8oAbwYsl",
        "outputId": "73ca3955-9a7e-4b39-c60b-c267e19b1131"
      },
      "outputs": [
        {
          "data": {
            "text/plain": [
              "413"
            ]
          },
          "execution_count": 24,
          "metadata": {},
          "output_type": "execute_result"
        }
      ],
      "source": [
        "len(new_data.Location.unique())"
      ]
    },
    {
      "cell_type": "code",
      "execution_count": 25,
      "metadata": {
        "colab": {
          "base_uri": "https://localhost:8080/",
          "height": 206
        },
        "id": "jHrI7sXfxqGA",
        "outputId": "c7834b4e-a13b-4966-d05a-473ee4b0e4bb"
      },
      "outputs": [
        {
          "data": {
            "text/html": [
              "<div>\n",
              "<style scoped>\n",
              "    .dataframe tbody tr th:only-of-type {\n",
              "        vertical-align: middle;\n",
              "    }\n",
              "\n",
              "    .dataframe tbody tr th {\n",
              "        vertical-align: top;\n",
              "    }\n",
              "\n",
              "    .dataframe thead th {\n",
              "        text-align: right;\n",
              "    }\n",
              "</style>\n",
              "<table border=\"1\" class=\"dataframe\">\n",
              "  <thead>\n",
              "    <tr style=\"text-align: right;\">\n",
              "      <th></th>\n",
              "      <th>Price</th>\n",
              "      <th>Area</th>\n",
              "      <th>Location</th>\n",
              "      <th>bhk</th>\n",
              "      <th>Lift</th>\n",
              "      <th>Parking</th>\n",
              "      <th>price_per_sqft</th>\n",
              "    </tr>\n",
              "  </thead>\n",
              "  <tbody>\n",
              "    <tr>\n",
              "      <th>239</th>\n",
              "      <td>11200000</td>\n",
              "      <td>573</td>\n",
              "      <td>Ulwe</td>\n",
              "      <td>2</td>\n",
              "      <td>1</td>\n",
              "      <td>1</td>\n",
              "      <td>19546.247818</td>\n",
              "    </tr>\n",
              "    <tr>\n",
              "      <th>503</th>\n",
              "      <td>4000000</td>\n",
              "      <td>568</td>\n",
              "      <td>Bhiwandi</td>\n",
              "      <td>2</td>\n",
              "      <td>1</td>\n",
              "      <td>1</td>\n",
              "      <td>7042.253521</td>\n",
              "    </tr>\n",
              "    <tr>\n",
              "      <th>545</th>\n",
              "      <td>6600000</td>\n",
              "      <td>550</td>\n",
              "      <td>Thane</td>\n",
              "      <td>2</td>\n",
              "      <td>1</td>\n",
              "      <td>1</td>\n",
              "      <td>12000.000000</td>\n",
              "    </tr>\n",
              "    <tr>\n",
              "      <th>546</th>\n",
              "      <td>6900000</td>\n",
              "      <td>565</td>\n",
              "      <td>Thane</td>\n",
              "      <td>2</td>\n",
              "      <td>1</td>\n",
              "      <td>1</td>\n",
              "      <td>12212.389381</td>\n",
              "    </tr>\n",
              "    <tr>\n",
              "      <th>547</th>\n",
              "      <td>6800000</td>\n",
              "      <td>547</td>\n",
              "      <td>Thane</td>\n",
              "      <td>2</td>\n",
              "      <td>1</td>\n",
              "      <td>1</td>\n",
              "      <td>12431.444241</td>\n",
              "    </tr>\n",
              "  </tbody>\n",
              "</table>\n",
              "</div>"
            ],
            "text/plain": [
              "        Price  Area  Location  bhk  Lift  Parking  price_per_sqft\n",
              "239  11200000   573      Ulwe    2     1        1    19546.247818\n",
              "503   4000000   568  Bhiwandi    2     1        1     7042.253521\n",
              "545   6600000   550     Thane    2     1        1    12000.000000\n",
              "546   6900000   565     Thane    2     1        1    12212.389381\n",
              "547   6800000   547     Thane    2     1        1    12431.444241"
            ]
          },
          "execution_count": 25,
          "metadata": {},
          "output_type": "execute_result"
        }
      ],
      "source": [
        "new_data[new_data.Area/new_data.bhk<300].head()"
      ]
    },
    {
      "cell_type": "code",
      "execution_count": 26,
      "metadata": {
        "colab": {
          "base_uri": "https://localhost:8080/"
        },
        "id": "RKgrmngeynBI",
        "outputId": "1692799f-79ca-4378-f4ea-7c21f2251a5e"
      },
      "outputs": [
        {
          "data": {
            "text/plain": [
              "count      6347.000000\n",
              "mean      13555.465839\n",
              "std        9573.921483\n",
              "min        1597.444089\n",
              "25%        7234.042553\n",
              "50%       10493.827160\n",
              "75%       17142.857143\n",
              "max      109950.522265\n",
              "Name: price_per_sqft, dtype: float64"
            ]
          },
          "execution_count": 26,
          "metadata": {},
          "output_type": "execute_result"
        }
      ],
      "source": [
        "new_data.price_per_sqft.describe()"
      ]
    },
    {
      "cell_type": "code",
      "execution_count": 27,
      "metadata": {
        "id": "gjXcxMgTzL16"
      },
      "outputs": [],
      "source": [
        "def remove_outliers(data):\n",
        "  df_out = pd.DataFrame()\n",
        "  for key, subdf in data.groupby('Location'):\n",
        "    m = np.mean(subdf.price_per_sqft)\n",
        "    st = np.std(subdf.price_per_sqft)\n",
        "    reduced_df = subdf[(subdf.price_per_sqft>(m-st)) & (subdf.price_per_sqft<=(m+st))]\n",
        "    df_out = pd.concat([df_out,reduced_df],ignore_index=True)\n",
        "  return df_out"
      ]
    },
    {
      "cell_type": "code",
      "execution_count": 28,
      "metadata": {
        "id": "D187j0ct0-z0"
      },
      "outputs": [],
      "source": [
        "data_1 = remove_outliers(new_data)"
      ]
    },
    {
      "cell_type": "code",
      "execution_count": 29,
      "metadata": {},
      "outputs": [
        {
          "data": {
            "text/html": [
              "<div>\n",
              "<style scoped>\n",
              "    .dataframe tbody tr th:only-of-type {\n",
              "        vertical-align: middle;\n",
              "    }\n",
              "\n",
              "    .dataframe tbody tr th {\n",
              "        vertical-align: top;\n",
              "    }\n",
              "\n",
              "    .dataframe thead th {\n",
              "        text-align: right;\n",
              "    }\n",
              "</style>\n",
              "<table border=\"1\" class=\"dataframe\">\n",
              "  <thead>\n",
              "    <tr style=\"text-align: right;\">\n",
              "      <th></th>\n",
              "      <th>Price</th>\n",
              "      <th>Area</th>\n",
              "      <th>Location</th>\n",
              "      <th>bhk</th>\n",
              "      <th>Lift</th>\n",
              "      <th>Parking</th>\n",
              "      <th>price_per_sqft</th>\n",
              "      <th>location_n</th>\n",
              "    </tr>\n",
              "  </thead>\n",
              "  <tbody>\n",
              "    <tr>\n",
              "      <th>0</th>\n",
              "      <td>6200000</td>\n",
              "      <td>400</td>\n",
              "      <td>Airoli</td>\n",
              "      <td>1</td>\n",
              "      <td>1</td>\n",
              "      <td>1</td>\n",
              "      <td>15500.000000</td>\n",
              "      <td>0</td>\n",
              "    </tr>\n",
              "    <tr>\n",
              "      <th>1</th>\n",
              "      <td>9500000</td>\n",
              "      <td>1000</td>\n",
              "      <td>Airoli</td>\n",
              "      <td>2</td>\n",
              "      <td>1</td>\n",
              "      <td>1</td>\n",
              "      <td>9500.000000</td>\n",
              "      <td>0</td>\n",
              "    </tr>\n",
              "    <tr>\n",
              "      <th>2</th>\n",
              "      <td>14900000</td>\n",
              "      <td>1245</td>\n",
              "      <td>Airoli</td>\n",
              "      <td>2</td>\n",
              "      <td>1</td>\n",
              "      <td>1</td>\n",
              "      <td>11967.871486</td>\n",
              "      <td>0</td>\n",
              "    </tr>\n",
              "    <tr>\n",
              "      <th>3</th>\n",
              "      <td>14000000</td>\n",
              "      <td>1183</td>\n",
              "      <td>Airoli</td>\n",
              "      <td>2</td>\n",
              "      <td>1</td>\n",
              "      <td>1</td>\n",
              "      <td>11834.319527</td>\n",
              "      <td>0</td>\n",
              "    </tr>\n",
              "    <tr>\n",
              "      <th>4</th>\n",
              "      <td>14800000</td>\n",
              "      <td>1245</td>\n",
              "      <td>Airoli</td>\n",
              "      <td>2</td>\n",
              "      <td>1</td>\n",
              "      <td>1</td>\n",
              "      <td>11887.550201</td>\n",
              "      <td>0</td>\n",
              "    </tr>\n",
              "    <tr>\n",
              "      <th>...</th>\n",
              "      <td>...</td>\n",
              "      <td>...</td>\n",
              "      <td>...</td>\n",
              "      <td>...</td>\n",
              "      <td>...</td>\n",
              "      <td>...</td>\n",
              "      <td>...</td>\n",
              "      <td>...</td>\n",
              "    </tr>\n",
              "    <tr>\n",
              "      <th>4612</th>\n",
              "      <td>11500000</td>\n",
              "      <td>1065</td>\n",
              "      <td>vasant vihar thane west</td>\n",
              "      <td>2</td>\n",
              "      <td>1</td>\n",
              "      <td>1</td>\n",
              "      <td>10798.122066</td>\n",
              "      <td>230</td>\n",
              "    </tr>\n",
              "    <tr>\n",
              "      <th>4613</th>\n",
              "      <td>47500000</td>\n",
              "      <td>1509</td>\n",
              "      <td>vile parle west</td>\n",
              "      <td>3</td>\n",
              "      <td>1</td>\n",
              "      <td>0</td>\n",
              "      <td>31477.799867</td>\n",
              "      <td>231</td>\n",
              "    </tr>\n",
              "    <tr>\n",
              "      <th>4614</th>\n",
              "      <td>33500000</td>\n",
              "      <td>1073</td>\n",
              "      <td>vile parle west</td>\n",
              "      <td>2</td>\n",
              "      <td>1</td>\n",
              "      <td>0</td>\n",
              "      <td>31220.876048</td>\n",
              "      <td>231</td>\n",
              "    </tr>\n",
              "    <tr>\n",
              "      <th>4615</th>\n",
              "      <td>58000000</td>\n",
              "      <td>1735</td>\n",
              "      <td>vile parle west</td>\n",
              "      <td>3</td>\n",
              "      <td>0</td>\n",
              "      <td>0</td>\n",
              "      <td>33429.394813</td>\n",
              "      <td>231</td>\n",
              "    </tr>\n",
              "    <tr>\n",
              "      <th>4616</th>\n",
              "      <td>27500000</td>\n",
              "      <td>840</td>\n",
              "      <td>vile parle west</td>\n",
              "      <td>2</td>\n",
              "      <td>1</td>\n",
              "      <td>0</td>\n",
              "      <td>32738.095238</td>\n",
              "      <td>231</td>\n",
              "    </tr>\n",
              "  </tbody>\n",
              "</table>\n",
              "<p>4617 rows × 8 columns</p>\n",
              "</div>"
            ],
            "text/plain": [
              "         Price  Area                 Location  bhk  Lift  Parking  \\\n",
              "0      6200000   400                   Airoli    1     1        1   \n",
              "1      9500000  1000                   Airoli    2     1        1   \n",
              "2     14900000  1245                   Airoli    2     1        1   \n",
              "3     14000000  1183                   Airoli    2     1        1   \n",
              "4     14800000  1245                   Airoli    2     1        1   \n",
              "...        ...   ...                      ...  ...   ...      ...   \n",
              "4612  11500000  1065  vasant vihar thane west    2     1        1   \n",
              "4613  47500000  1509          vile parle west    3     1        0   \n",
              "4614  33500000  1073          vile parle west    2     1        0   \n",
              "4615  58000000  1735          vile parle west    3     0        0   \n",
              "4616  27500000   840          vile parle west    2     1        0   \n",
              "\n",
              "      price_per_sqft  location_n  \n",
              "0       15500.000000           0  \n",
              "1        9500.000000           0  \n",
              "2       11967.871486           0  \n",
              "3       11834.319527           0  \n",
              "4       11887.550201           0  \n",
              "...              ...         ...  \n",
              "4612    10798.122066         230  \n",
              "4613    31477.799867         231  \n",
              "4614    31220.876048         231  \n",
              "4615    33429.394813         231  \n",
              "4616    32738.095238         231  \n",
              "\n",
              "[4617 rows x 8 columns]"
            ]
          },
          "execution_count": 29,
          "metadata": {},
          "output_type": "execute_result"
        }
      ],
      "source": [
        "from sklearn.preprocessing import LabelEncoder\n",
        "location = LabelEncoder()\n",
        "data_1['location_n'] = location.fit_transform(data_1['Location'])\n",
        "data_1"
      ]
    },
    {
      "cell_type": "code",
      "execution_count": 30,
      "metadata": {},
      "outputs": [],
      "source": [
        "data_1.to_csv(\"New_Dataset.csv\",index=False)"
      ]
    },
    {
      "cell_type": "code",
      "execution_count": 31,
      "metadata": {
        "colab": {
          "base_uri": "https://localhost:8080/"
        },
        "id": "q_e4raMc1zbt",
        "outputId": "d8e149dd-bd48-409f-b3ef-37474cdbadba"
      },
      "outputs": [
        {
          "data": {
            "text/plain": [
              "(4617, 8)"
            ]
          },
          "execution_count": 31,
          "metadata": {},
          "output_type": "execute_result"
        }
      ],
      "source": [
        "data_1.shape"
      ]
    },
    {
      "cell_type": "code",
      "execution_count": 32,
      "metadata": {
        "colab": {
          "base_uri": "https://localhost:8080/",
          "height": 206
        },
        "id": "eF2tZQcd2IWW",
        "outputId": "343e6bd2-91e5-4d36-98fd-bc6f5c7bcfa1"
      },
      "outputs": [
        {
          "data": {
            "text/html": [
              "<div>\n",
              "<style scoped>\n",
              "    .dataframe tbody tr th:only-of-type {\n",
              "        vertical-align: middle;\n",
              "    }\n",
              "\n",
              "    .dataframe tbody tr th {\n",
              "        vertical-align: top;\n",
              "    }\n",
              "\n",
              "    .dataframe thead th {\n",
              "        text-align: right;\n",
              "    }\n",
              "</style>\n",
              "<table border=\"1\" class=\"dataframe\">\n",
              "  <thead>\n",
              "    <tr style=\"text-align: right;\">\n",
              "      <th></th>\n",
              "      <th>Price</th>\n",
              "      <th>Area</th>\n",
              "      <th>Location</th>\n",
              "      <th>bhk</th>\n",
              "      <th>Lift</th>\n",
              "      <th>Parking</th>\n",
              "      <th>price_per_sqft</th>\n",
              "      <th>location_n</th>\n",
              "    </tr>\n",
              "  </thead>\n",
              "  <tbody>\n",
              "    <tr>\n",
              "      <th>0</th>\n",
              "      <td>6200000</td>\n",
              "      <td>400</td>\n",
              "      <td>Airoli</td>\n",
              "      <td>1</td>\n",
              "      <td>1</td>\n",
              "      <td>1</td>\n",
              "      <td>15500.000000</td>\n",
              "      <td>0</td>\n",
              "    </tr>\n",
              "    <tr>\n",
              "      <th>1</th>\n",
              "      <td>9500000</td>\n",
              "      <td>1000</td>\n",
              "      <td>Airoli</td>\n",
              "      <td>2</td>\n",
              "      <td>1</td>\n",
              "      <td>1</td>\n",
              "      <td>9500.000000</td>\n",
              "      <td>0</td>\n",
              "    </tr>\n",
              "    <tr>\n",
              "      <th>2</th>\n",
              "      <td>14900000</td>\n",
              "      <td>1245</td>\n",
              "      <td>Airoli</td>\n",
              "      <td>2</td>\n",
              "      <td>1</td>\n",
              "      <td>1</td>\n",
              "      <td>11967.871486</td>\n",
              "      <td>0</td>\n",
              "    </tr>\n",
              "    <tr>\n",
              "      <th>3</th>\n",
              "      <td>14000000</td>\n",
              "      <td>1183</td>\n",
              "      <td>Airoli</td>\n",
              "      <td>2</td>\n",
              "      <td>1</td>\n",
              "      <td>1</td>\n",
              "      <td>11834.319527</td>\n",
              "      <td>0</td>\n",
              "    </tr>\n",
              "    <tr>\n",
              "      <th>4</th>\n",
              "      <td>14800000</td>\n",
              "      <td>1245</td>\n",
              "      <td>Airoli</td>\n",
              "      <td>2</td>\n",
              "      <td>1</td>\n",
              "      <td>1</td>\n",
              "      <td>11887.550201</td>\n",
              "      <td>0</td>\n",
              "    </tr>\n",
              "  </tbody>\n",
              "</table>\n",
              "</div>"
            ],
            "text/plain": [
              "      Price  Area Location  bhk  Lift  Parking  price_per_sqft  location_n\n",
              "0   6200000   400   Airoli    1     1        1    15500.000000           0\n",
              "1   9500000  1000   Airoli    2     1        1     9500.000000           0\n",
              "2  14900000  1245   Airoli    2     1        1    11967.871486           0\n",
              "3  14000000  1183   Airoli    2     1        1    11834.319527           0\n",
              "4  14800000  1245   Airoli    2     1        1    11887.550201           0"
            ]
          },
          "execution_count": 32,
          "metadata": {},
          "output_type": "execute_result"
        }
      ],
      "source": [
        "data_1.head()"
      ]
    },
    {
      "cell_type": "code",
      "execution_count": 33,
      "metadata": {},
      "outputs": [
        {
          "data": {
            "text/plain": [
              "Price             0\n",
              "Area              0\n",
              "Location          0\n",
              "bhk               0\n",
              "Lift              0\n",
              "Parking           0\n",
              "price_per_sqft    0\n",
              "location_n        0\n",
              "dtype: int64"
            ]
          },
          "execution_count": 33,
          "metadata": {},
          "output_type": "execute_result"
        }
      ],
      "source": [
        "data_1.isnull().sum()"
      ]
    },
    {
      "cell_type": "code",
      "execution_count": 34,
      "metadata": {},
      "outputs": [
        {
          "data": {
            "text/plain": [
              "Kharghar           399\n",
              "Thane West         361\n",
              "Mira Road East     326\n",
              "Ulwe               242\n",
              "Kalyan West        137\n",
              "                  ... \n",
              "MHADA Colony 20      1\n",
              "Tolaram Colony       1\n",
              "Link Road            1\n",
              "Uran                 1\n",
              "Hanuman Nagar        1\n",
              "Name: Location, Length: 232, dtype: int64"
            ]
          },
          "execution_count": 34,
          "metadata": {},
          "output_type": "execute_result"
        }
      ],
      "source": [
        "data_1.Location = data_1.Location.apply(lambda x: x.strip())\n",
        "location_stats = data_1['Location'].value_counts(ascending=False)\n",
        "location_stats"
      ]
    },
    {
      "cell_type": "code",
      "execution_count": 35,
      "metadata": {},
      "outputs": [
        {
          "data": {
            "text/plain": [
              "4617"
            ]
          },
          "execution_count": 35,
          "metadata": {},
          "output_type": "execute_result"
        }
      ],
      "source": [
        "location_stats.values.sum()"
      ]
    },
    {
      "cell_type": "code",
      "execution_count": 36,
      "metadata": {},
      "outputs": [
        {
          "data": {
            "text/plain": [
              "76"
            ]
          },
          "execution_count": 36,
          "metadata": {},
          "output_type": "execute_result"
        }
      ],
      "source": [
        "len(location_stats[location_stats>10])"
      ]
    },
    {
      "cell_type": "code",
      "execution_count": 37,
      "metadata": {},
      "outputs": [
        {
          "data": {
            "text/plain": [
              "Khar West          10\n",
              "Vashi               9\n",
              "Nalasopara East     9\n",
              "Andheri             9\n",
              "Sion                9\n",
              "                   ..\n",
              "MHADA Colony 20     1\n",
              "Tolaram Colony      1\n",
              "Link Road           1\n",
              "Uran                1\n",
              "Hanuman Nagar       1\n",
              "Name: Location, Length: 156, dtype: int64"
            ]
          },
          "execution_count": 37,
          "metadata": {},
          "output_type": "execute_result"
        }
      ],
      "source": [
        "location_stats_less_than_10 = location_stats[location_stats<=10]\n",
        "location_stats_less_than_10"
      ]
    },
    {
      "cell_type": "code",
      "execution_count": 38,
      "metadata": {},
      "outputs": [
        {
          "data": {
            "text/plain": [
              "77"
            ]
          },
          "execution_count": 38,
          "metadata": {},
          "output_type": "execute_result"
        }
      ],
      "source": [
        "data_1.Location = data_1.Location.apply(lambda x: 'other' if x in location_stats_less_than_10 else x)\n",
        "len(data_1.Location.unique())"
      ]
    },
    {
      "cell_type": "code",
      "execution_count": 39,
      "metadata": {},
      "outputs": [
        {
          "data": {
            "text/html": [
              "<div>\n",
              "<style scoped>\n",
              "    .dataframe tbody tr th:only-of-type {\n",
              "        vertical-align: middle;\n",
              "    }\n",
              "\n",
              "    .dataframe tbody tr th {\n",
              "        vertical-align: top;\n",
              "    }\n",
              "\n",
              "    .dataframe thead th {\n",
              "        text-align: right;\n",
              "    }\n",
              "</style>\n",
              "<table border=\"1\" class=\"dataframe\">\n",
              "  <thead>\n",
              "    <tr style=\"text-align: right;\">\n",
              "      <th></th>\n",
              "      <th>Price</th>\n",
              "      <th>Area</th>\n",
              "      <th>Location</th>\n",
              "      <th>bhk</th>\n",
              "      <th>Lift</th>\n",
              "      <th>Parking</th>\n",
              "      <th>price_per_sqft</th>\n",
              "      <th>location_n</th>\n",
              "    </tr>\n",
              "  </thead>\n",
              "  <tbody>\n",
              "    <tr>\n",
              "      <th>0</th>\n",
              "      <td>6200000</td>\n",
              "      <td>400</td>\n",
              "      <td>Airoli</td>\n",
              "      <td>1</td>\n",
              "      <td>1</td>\n",
              "      <td>1</td>\n",
              "      <td>15500.000000</td>\n",
              "      <td>0</td>\n",
              "    </tr>\n",
              "    <tr>\n",
              "      <th>1</th>\n",
              "      <td>9500000</td>\n",
              "      <td>1000</td>\n",
              "      <td>Airoli</td>\n",
              "      <td>2</td>\n",
              "      <td>1</td>\n",
              "      <td>1</td>\n",
              "      <td>9500.000000</td>\n",
              "      <td>0</td>\n",
              "    </tr>\n",
              "    <tr>\n",
              "      <th>2</th>\n",
              "      <td>14900000</td>\n",
              "      <td>1245</td>\n",
              "      <td>Airoli</td>\n",
              "      <td>2</td>\n",
              "      <td>1</td>\n",
              "      <td>1</td>\n",
              "      <td>11967.871486</td>\n",
              "      <td>0</td>\n",
              "    </tr>\n",
              "    <tr>\n",
              "      <th>3</th>\n",
              "      <td>14000000</td>\n",
              "      <td>1183</td>\n",
              "      <td>Airoli</td>\n",
              "      <td>2</td>\n",
              "      <td>1</td>\n",
              "      <td>1</td>\n",
              "      <td>11834.319527</td>\n",
              "      <td>0</td>\n",
              "    </tr>\n",
              "    <tr>\n",
              "      <th>4</th>\n",
              "      <td>14800000</td>\n",
              "      <td>1245</td>\n",
              "      <td>Airoli</td>\n",
              "      <td>2</td>\n",
              "      <td>1</td>\n",
              "      <td>1</td>\n",
              "      <td>11887.550201</td>\n",
              "      <td>0</td>\n",
              "    </tr>\n",
              "  </tbody>\n",
              "</table>\n",
              "</div>"
            ],
            "text/plain": [
              "      Price  Area Location  bhk  Lift  Parking  price_per_sqft  location_n\n",
              "0   6200000   400   Airoli    1     1        1    15500.000000           0\n",
              "1   9500000  1000   Airoli    2     1        1     9500.000000           0\n",
              "2  14900000  1245   Airoli    2     1        1    11967.871486           0\n",
              "3  14000000  1183   Airoli    2     1        1    11834.319527           0\n",
              "4  14800000  1245   Airoli    2     1        1    11887.550201           0"
            ]
          },
          "execution_count": 39,
          "metadata": {},
          "output_type": "execute_result"
        }
      ],
      "source": [
        "data_1.head()"
      ]
    },
    {
      "cell_type": "code",
      "execution_count": 40,
      "metadata": {
        "id": "w9kGvEIT2KL0"
      },
      "outputs": [],
      "source": [
        "def plot_scatter_chart(df,Location):\n",
        "  bhk1 = df[(df.Location==Location)&(df.bhk==1)]\n",
        "  bhk2 = df[(df.Location==Location)&(df.bhk==2)]\n",
        "  bhk3 = df[(df.Location==Location)&(df.bhk==3)]\n",
        "  matplotlib.rcParams['figure.figsize'] = (15,10)\n",
        "  mp.scatter(bhk1.Area,bhk1.Price,marker='*',color='green',label='1 BHK', s=100)\n",
        "  mp.scatter(bhk2.Area,bhk2.Price,color='blue',label='2 BHK', s=100)\n",
        "  mp.scatter(bhk3.Area,bhk3.Price,marker='+',color='red',label='3 BHK', s=100)\n",
        "  mp.xlabel(\"Total square Feet Area\")\n",
        "  mp.ylabel(\"Price\")\n",
        "  mp.title(Location)\n",
        "  mp.legend()"
      ]
    },
    {
      "cell_type": "code",
      "execution_count": 41,
      "metadata": {
        "colab": {
          "base_uri": "https://localhost:8080/",
          "height": 621
        },
        "id": "gXK0AqUW7Pqz",
        "outputId": "27081557-06d2-49f6-91ae-6787e83adc50"
      },
      "outputs": [
        {
          "data": {
            "image/png": "[encoded data removed]",
            "text/plain": [
              "<Figure size 1500x1000 with 1 Axes>"
            ]
          },
          "metadata": {},
          "output_type": "display_data"
        }
      ],
      "source": [
        "plot = plot_scatter_chart(data_1,\"Airoli\")"
      ]
    },
    {
      "cell_type": "code",
      "execution_count": 42,
      "metadata": {
        "id": "Mj6UItWM7brA"
      },
      "outputs": [],
      "source": [
        "def remove_bhk_outliers(data):\n",
        "  exclude_indices = np.array([])\n",
        "  for Location, Location_data in data.groupby('Location'):\n",
        "    bhk_stats= {}\n",
        "    for bhk, bhk_data in data.groupby('bhk'):\n",
        "      bhk_stats[bhk] = {\n",
        "          'mean': np.mean(bhk_data.price_per_sqft),\n",
        "          'std' : np.std(bhk_data.price_per_sqft),\n",
        "          'count': bhk_data.shape[0]\n",
        "      }\n",
        "      for bhk,bhk_data in Location_data.groupby('bhk'):\n",
        "        stats = bhk_stats.get(bhk-1)\n",
        "        if stats and stats['count']>5:\n",
        "          exclude_indices = np.append(exclude_indices,bhk_data[bhk_data.price_per_sqft<(stats['mean'])].index.values)\n",
        "    return data.drop(exclude_indices,axis='index')"
      ]
    },
    {
      "cell_type": "code",
      "execution_count": 43,
      "metadata": {
        "id": "Q4fHzLYiFIsb"
      },
      "outputs": [],
      "source": [
        "data_1 = remove_bhk_outliers(data_1)"
      ]
    },
    {
      "cell_type": "code",
      "execution_count": 44,
      "metadata": {
        "colab": {
          "base_uri": "https://localhost:8080/",
          "height": 621
        },
        "id": "KgvBl1O4FPZ6",
        "outputId": "545bbb9f-748b-4001-9cc8-571629ee5d6b"
      },
      "outputs": [
        {
          "data": {
            "image/png": "[encoded data removed]",
            "text/plain": [
              "<Figure size 1500x1000 with 1 Axes>"
            ]
          },
          "metadata": {},
          "output_type": "display_data"
        }
      ],
      "source": [
        "plot = plot_scatter_chart(data_1,\"Airoli\")"
      ]
    },
    {
      "cell_type": "code",
      "execution_count": 45,
      "metadata": {
        "colab": {
          "base_uri": "https://localhost:8080/",
          "height": 614
        },
        "id": "WFnRzN0mFV1Z",
        "outputId": "376c9477-4e53-4a19-f21f-186b90cbe52f"
      },
      "outputs": [
        {
          "data": {
            "text/plain": [
              "Text(0, 0.5, 'Count')"
            ]
          },
          "execution_count": 45,
          "metadata": {},
          "output_type": "execute_result"
        },
        {
          "data": {
            "image/png": "[encoded data removed]",
            "text/plain": [
              "<Figure size 2000x1000 with 1 Axes>"
            ]
          },
          "metadata": {},
          "output_type": "display_data"
        }
      ],
      "source": [
        "import matplotlib\n",
        "matplotlib.rcParams['figure.figsize'] = (20,10)\n",
        "mp.hist(data_1.price_per_sqft,rwidth=0.5)\n",
        "mp.xlabel(\"Price per Square feet\")\n",
        "mp.ylabel(\"Count\")"
      ]
    },
    {
      "cell_type": "code",
      "execution_count": 46,
      "metadata": {
        "colab": {
          "base_uri": "https://localhost:8080/",
          "height": 289
        },
        "id": "5Fmi0QTdkRSc",
        "outputId": "d29edf59-3bd0-41f0-fda0-918298a8ae83"
      },
      "outputs": [
        {
          "data": {
            "text/html": [
              "<div>\n",
              "<style scoped>\n",
              "    .dataframe tbody tr th:only-of-type {\n",
              "        vertical-align: middle;\n",
              "    }\n",
              "\n",
              "    .dataframe tbody tr th {\n",
              "        vertical-align: top;\n",
              "    }\n",
              "\n",
              "    .dataframe thead th {\n",
              "        text-align: right;\n",
              "    }\n",
              "</style>\n",
              "<table border=\"1\" class=\"dataframe\">\n",
              "  <thead>\n",
              "    <tr style=\"text-align: right;\">\n",
              "      <th></th>\n",
              "      <th>Airoli</th>\n",
              "      <th>Ambernath East</th>\n",
              "      <th>Ambernath West</th>\n",
              "      <th>Andheri East</th>\n",
              "      <th>Andheri West</th>\n",
              "      <th>Badlapur East</th>\n",
              "      <th>Bandra East</th>\n",
              "      <th>Bandra West</th>\n",
              "      <th>Belapur</th>\n",
              "      <th>Bhandup West</th>\n",
              "      <th>...</th>\n",
              "      <th>Vasai</th>\n",
              "      <th>Vasai West</th>\n",
              "      <th>Vasai east</th>\n",
              "      <th>Ville Parle East</th>\n",
              "      <th>Virar</th>\n",
              "      <th>Virar West</th>\n",
              "      <th>Wadala</th>\n",
              "      <th>Worli</th>\n",
              "      <th>mumbai</th>\n",
              "      <th>other</th>\n",
              "    </tr>\n",
              "  </thead>\n",
              "  <tbody>\n",
              "    <tr>\n",
              "      <th>0</th>\n",
              "      <td>1</td>\n",
              "      <td>0</td>\n",
              "      <td>0</td>\n",
              "      <td>0</td>\n",
              "      <td>0</td>\n",
              "      <td>0</td>\n",
              "      <td>0</td>\n",
              "      <td>0</td>\n",
              "      <td>0</td>\n",
              "      <td>0</td>\n",
              "      <td>...</td>\n",
              "      <td>0</td>\n",
              "      <td>0</td>\n",
              "      <td>0</td>\n",
              "      <td>0</td>\n",
              "      <td>0</td>\n",
              "      <td>0</td>\n",
              "      <td>0</td>\n",
              "      <td>0</td>\n",
              "      <td>0</td>\n",
              "      <td>0</td>\n",
              "    </tr>\n",
              "    <tr>\n",
              "      <th>2</th>\n",
              "      <td>1</td>\n",
              "      <td>0</td>\n",
              "      <td>0</td>\n",
              "      <td>0</td>\n",
              "      <td>0</td>\n",
              "      <td>0</td>\n",
              "      <td>0</td>\n",
              "      <td>0</td>\n",
              "      <td>0</td>\n",
              "      <td>0</td>\n",
              "      <td>...</td>\n",
              "      <td>0</td>\n",
              "      <td>0</td>\n",
              "      <td>0</td>\n",
              "      <td>0</td>\n",
              "      <td>0</td>\n",
              "      <td>0</td>\n",
              "      <td>0</td>\n",
              "      <td>0</td>\n",
              "      <td>0</td>\n",
              "      <td>0</td>\n",
              "    </tr>\n",
              "    <tr>\n",
              "      <th>3</th>\n",
              "      <td>1</td>\n",
              "      <td>0</td>\n",
              "      <td>0</td>\n",
              "      <td>0</td>\n",
              "      <td>0</td>\n",
              "      <td>0</td>\n",
              "      <td>0</td>\n",
              "      <td>0</td>\n",
              "      <td>0</td>\n",
              "      <td>0</td>\n",
              "      <td>...</td>\n",
              "      <td>0</td>\n",
              "      <td>0</td>\n",
              "      <td>0</td>\n",
              "      <td>0</td>\n",
              "      <td>0</td>\n",
              "      <td>0</td>\n",
              "      <td>0</td>\n",
              "      <td>0</td>\n",
              "      <td>0</td>\n",
              "      <td>0</td>\n",
              "    </tr>\n",
              "  </tbody>\n",
              "</table>\n",
              "<p>3 rows × 77 columns</p>\n",
              "</div>"
            ],
            "text/plain": [
              "   Airoli  Ambernath East  Ambernath West  Andheri East  Andheri West  \\\n",
              "0       1               0               0             0             0   \n",
              "2       1               0               0             0             0   \n",
              "3       1               0               0             0             0   \n",
              "\n",
              "   Badlapur East  Bandra East  Bandra West  Belapur  Bhandup West  ...  Vasai  \\\n",
              "0              0            0            0        0             0  ...      0   \n",
              "2              0            0            0        0             0  ...      0   \n",
              "3              0            0            0        0             0  ...      0   \n",
              "\n",
              "   Vasai West  Vasai east  Ville Parle East  Virar  Virar West  Wadala  Worli  \\\n",
              "0           0           0                 0      0           0       0      0   \n",
              "2           0           0                 0      0           0       0      0   \n",
              "3           0           0                 0      0           0       0      0   \n",
              "\n",
              "   mumbai  other  \n",
              "0       0      0  \n",
              "2       0      0  \n",
              "3       0      0  \n",
              "\n",
              "[3 rows x 77 columns]"
            ]
          },
          "execution_count": 46,
          "metadata": {},
          "output_type": "execute_result"
        }
      ],
      "source": [
        "dummies = pd.get_dummies(data_1.Location)\n",
        "dummies.head(3)"
      ]
    },
    {
      "cell_type": "code",
      "execution_count": 47,
      "metadata": {
        "colab": {
          "base_uri": "https://localhost:8080/",
          "height": 352
        },
        "id": "dhuA3xrxno7d",
        "outputId": "dfe672db-5d9e-48c7-c0f0-f46e6a680c02"
      },
      "outputs": [
        {
          "data": {
            "text/html": [
              "<div>\n",
              "<style scoped>\n",
              "    .dataframe tbody tr th:only-of-type {\n",
              "        vertical-align: middle;\n",
              "    }\n",
              "\n",
              "    .dataframe tbody tr th {\n",
              "        vertical-align: top;\n",
              "    }\n",
              "\n",
              "    .dataframe thead th {\n",
              "        text-align: right;\n",
              "    }\n",
              "</style>\n",
              "<table border=\"1\" class=\"dataframe\">\n",
              "  <thead>\n",
              "    <tr style=\"text-align: right;\">\n",
              "      <th></th>\n",
              "      <th>Price</th>\n",
              "      <th>Area</th>\n",
              "      <th>Location</th>\n",
              "      <th>bhk</th>\n",
              "      <th>Lift</th>\n",
              "      <th>Parking</th>\n",
              "      <th>price_per_sqft</th>\n",
              "      <th>location_n</th>\n",
              "      <th>Airoli</th>\n",
              "      <th>Ambernath East</th>\n",
              "      <th>...</th>\n",
              "      <th>Vasai</th>\n",
              "      <th>Vasai West</th>\n",
              "      <th>Vasai east</th>\n",
              "      <th>Ville Parle East</th>\n",
              "      <th>Virar</th>\n",
              "      <th>Virar West</th>\n",
              "      <th>Wadala</th>\n",
              "      <th>Worli</th>\n",
              "      <th>mumbai</th>\n",
              "      <th>other</th>\n",
              "    </tr>\n",
              "  </thead>\n",
              "  <tbody>\n",
              "    <tr>\n",
              "      <th>0</th>\n",
              "      <td>6200000</td>\n",
              "      <td>400</td>\n",
              "      <td>Airoli</td>\n",
              "      <td>1</td>\n",
              "      <td>1</td>\n",
              "      <td>1</td>\n",
              "      <td>15500.000000</td>\n",
              "      <td>0</td>\n",
              "      <td>1</td>\n",
              "      <td>0</td>\n",
              "      <td>...</td>\n",
              "      <td>0</td>\n",
              "      <td>0</td>\n",
              "      <td>0</td>\n",
              "      <td>0</td>\n",
              "      <td>0</td>\n",
              "      <td>0</td>\n",
              "      <td>0</td>\n",
              "      <td>0</td>\n",
              "      <td>0</td>\n",
              "      <td>0</td>\n",
              "    </tr>\n",
              "    <tr>\n",
              "      <th>2</th>\n",
              "      <td>14900000</td>\n",
              "      <td>1245</td>\n",
              "      <td>Airoli</td>\n",
              "      <td>2</td>\n",
              "      <td>1</td>\n",
              "      <td>1</td>\n",
              "      <td>11967.871486</td>\n",
              "      <td>0</td>\n",
              "      <td>1</td>\n",
              "      <td>0</td>\n",
              "      <td>...</td>\n",
              "      <td>0</td>\n",
              "      <td>0</td>\n",
              "      <td>0</td>\n",
              "      <td>0</td>\n",
              "      <td>0</td>\n",
              "      <td>0</td>\n",
              "      <td>0</td>\n",
              "      <td>0</td>\n",
              "      <td>0</td>\n",
              "      <td>0</td>\n",
              "    </tr>\n",
              "    <tr>\n",
              "      <th>3</th>\n",
              "      <td>14000000</td>\n",
              "      <td>1183</td>\n",
              "      <td>Airoli</td>\n",
              "      <td>2</td>\n",
              "      <td>1</td>\n",
              "      <td>1</td>\n",
              "      <td>11834.319527</td>\n",
              "      <td>0</td>\n",
              "      <td>1</td>\n",
              "      <td>0</td>\n",
              "      <td>...</td>\n",
              "      <td>0</td>\n",
              "      <td>0</td>\n",
              "      <td>0</td>\n",
              "      <td>0</td>\n",
              "      <td>0</td>\n",
              "      <td>0</td>\n",
              "      <td>0</td>\n",
              "      <td>0</td>\n",
              "      <td>0</td>\n",
              "      <td>0</td>\n",
              "    </tr>\n",
              "    <tr>\n",
              "      <th>4</th>\n",
              "      <td>14800000</td>\n",
              "      <td>1245</td>\n",
              "      <td>Airoli</td>\n",
              "      <td>2</td>\n",
              "      <td>1</td>\n",
              "      <td>1</td>\n",
              "      <td>11887.550201</td>\n",
              "      <td>0</td>\n",
              "      <td>1</td>\n",
              "      <td>0</td>\n",
              "      <td>...</td>\n",
              "      <td>0</td>\n",
              "      <td>0</td>\n",
              "      <td>0</td>\n",
              "      <td>0</td>\n",
              "      <td>0</td>\n",
              "      <td>0</td>\n",
              "      <td>0</td>\n",
              "      <td>0</td>\n",
              "      <td>0</td>\n",
              "      <td>0</td>\n",
              "    </tr>\n",
              "    <tr>\n",
              "      <th>5</th>\n",
              "      <td>6400000</td>\n",
              "      <td>495</td>\n",
              "      <td>Airoli</td>\n",
              "      <td>1</td>\n",
              "      <td>0</td>\n",
              "      <td>0</td>\n",
              "      <td>12929.292929</td>\n",
              "      <td>0</td>\n",
              "      <td>1</td>\n",
              "      <td>0</td>\n",
              "      <td>...</td>\n",
              "      <td>0</td>\n",
              "      <td>0</td>\n",
              "      <td>0</td>\n",
              "      <td>0</td>\n",
              "      <td>0</td>\n",
              "      <td>0</td>\n",
              "      <td>0</td>\n",
              "      <td>0</td>\n",
              "      <td>0</td>\n",
              "      <td>0</td>\n",
              "    </tr>\n",
              "  </tbody>\n",
              "</table>\n",
              "<p>5 rows × 85 columns</p>\n",
              "</div>"
            ],
            "text/plain": [
              "      Price  Area Location  bhk  Lift  Parking  price_per_sqft  location_n  \\\n",
              "0   6200000   400   Airoli    1     1        1    15500.000000           0   \n",
              "2  14900000  1245   Airoli    2     1        1    11967.871486           0   \n",
              "3  14000000  1183   Airoli    2     1        1    11834.319527           0   \n",
              "4  14800000  1245   Airoli    2     1        1    11887.550201           0   \n",
              "5   6400000   495   Airoli    1     0        0    12929.292929           0   \n",
              "\n",
              "   Airoli  Ambernath East  ...  Vasai  Vasai West  Vasai east  \\\n",
              "0       1               0  ...      0           0           0   \n",
              "2       1               0  ...      0           0           0   \n",
              "3       1               0  ...      0           0           0   \n",
              "4       1               0  ...      0           0           0   \n",
              "5       1               0  ...      0           0           0   \n",
              "\n",
              "   Ville Parle East  Virar  Virar West  Wadala  Worli  mumbai  other  \n",
              "0                 0      0           0       0      0       0      0  \n",
              "2                 0      0           0       0      0       0      0  \n",
              "3                 0      0           0       0      0       0      0  \n",
              "4                 0      0           0       0      0       0      0  \n",
              "5                 0      0           0       0      0       0      0  \n",
              "\n",
              "[5 rows x 85 columns]"
            ]
          },
          "execution_count": 47,
          "metadata": {},
          "output_type": "execute_result"
        }
      ],
      "source": [
        "data_2 = pd.concat([data_1,dummies],axis='columns')\n",
        "data_2.head()"
      ]
    },
    {
      "cell_type": "code",
      "execution_count": 48,
      "metadata": {
        "id": "mmS7nkJmoKf7"
      },
      "outputs": [],
      "source": [
        "data_2 = data_2.drop(['Location','price_per_sqft'],axis='columns')\n"
      ]
    },
    {
      "cell_type": "code",
      "execution_count": 49,
      "metadata": {
        "colab": {
          "base_uri": "https://localhost:8080/",
          "height": 352
        },
        "id": "PHpDWvSbozVB",
        "outputId": "3696c6ac-8ba2-4132-e684-6fe343087e89"
      },
      "outputs": [
        {
          "data": {
            "text/html": [
              "<div>\n",
              "<style scoped>\n",
              "    .dataframe tbody tr th:only-of-type {\n",
              "        vertical-align: middle;\n",
              "    }\n",
              "\n",
              "    .dataframe tbody tr th {\n",
              "        vertical-align: top;\n",
              "    }\n",
              "\n",
              "    .dataframe thead th {\n",
              "        text-align: right;\n",
              "    }\n",
              "</style>\n",
              "<table border=\"1\" class=\"dataframe\">\n",
              "  <thead>\n",
              "    <tr style=\"text-align: right;\">\n",
              "      <th></th>\n",
              "      <th>Price</th>\n",
              "      <th>Area</th>\n",
              "      <th>bhk</th>\n",
              "      <th>Lift</th>\n",
              "      <th>Parking</th>\n",
              "      <th>location_n</th>\n",
              "      <th>Airoli</th>\n",
              "      <th>Ambernath East</th>\n",
              "      <th>Ambernath West</th>\n",
              "      <th>Andheri East</th>\n",
              "      <th>...</th>\n",
              "      <th>Vasai</th>\n",
              "      <th>Vasai West</th>\n",
              "      <th>Vasai east</th>\n",
              "      <th>Ville Parle East</th>\n",
              "      <th>Virar</th>\n",
              "      <th>Virar West</th>\n",
              "      <th>Wadala</th>\n",
              "      <th>Worli</th>\n",
              "      <th>mumbai</th>\n",
              "      <th>other</th>\n",
              "    </tr>\n",
              "  </thead>\n",
              "  <tbody>\n",
              "    <tr>\n",
              "      <th>0</th>\n",
              "      <td>6200000</td>\n",
              "      <td>400</td>\n",
              "      <td>1</td>\n",
              "      <td>1</td>\n",
              "      <td>1</td>\n",
              "      <td>0</td>\n",
              "      <td>1</td>\n",
              "      <td>0</td>\n",
              "      <td>0</td>\n",
              "      <td>0</td>\n",
              "      <td>...</td>\n",
              "      <td>0</td>\n",
              "      <td>0</td>\n",
              "      <td>0</td>\n",
              "      <td>0</td>\n",
              "      <td>0</td>\n",
              "      <td>0</td>\n",
              "      <td>0</td>\n",
              "      <td>0</td>\n",
              "      <td>0</td>\n",
              "      <td>0</td>\n",
              "    </tr>\n",
              "    <tr>\n",
              "      <th>2</th>\n",
              "      <td>14900000</td>\n",
              "      <td>1245</td>\n",
              "      <td>2</td>\n",
              "      <td>1</td>\n",
              "      <td>1</td>\n",
              "      <td>0</td>\n",
              "      <td>1</td>\n",
              "      <td>0</td>\n",
              "      <td>0</td>\n",
              "      <td>0</td>\n",
              "      <td>...</td>\n",
              "      <td>0</td>\n",
              "      <td>0</td>\n",
              "      <td>0</td>\n",
              "      <td>0</td>\n",
              "      <td>0</td>\n",
              "      <td>0</td>\n",
              "      <td>0</td>\n",
              "      <td>0</td>\n",
              "      <td>0</td>\n",
              "      <td>0</td>\n",
              "    </tr>\n",
              "    <tr>\n",
              "      <th>3</th>\n",
              "      <td>14000000</td>\n",
              "      <td>1183</td>\n",
              "      <td>2</td>\n",
              "      <td>1</td>\n",
              "      <td>1</td>\n",
              "      <td>0</td>\n",
              "      <td>1</td>\n",
              "      <td>0</td>\n",
              "      <td>0</td>\n",
              "      <td>0</td>\n",
              "      <td>...</td>\n",
              "      <td>0</td>\n",
              "      <td>0</td>\n",
              "      <td>0</td>\n",
              "      <td>0</td>\n",
              "      <td>0</td>\n",
              "      <td>0</td>\n",
              "      <td>0</td>\n",
              "      <td>0</td>\n",
              "      <td>0</td>\n",
              "      <td>0</td>\n",
              "    </tr>\n",
              "    <tr>\n",
              "      <th>4</th>\n",
              "      <td>14800000</td>\n",
              "      <td>1245</td>\n",
              "      <td>2</td>\n",
              "      <td>1</td>\n",
              "      <td>1</td>\n",
              "      <td>0</td>\n",
              "      <td>1</td>\n",
              "      <td>0</td>\n",
              "      <td>0</td>\n",
              "      <td>0</td>\n",
              "      <td>...</td>\n",
              "      <td>0</td>\n",
              "      <td>0</td>\n",
              "      <td>0</td>\n",
              "      <td>0</td>\n",
              "      <td>0</td>\n",
              "      <td>0</td>\n",
              "      <td>0</td>\n",
              "      <td>0</td>\n",
              "      <td>0</td>\n",
              "      <td>0</td>\n",
              "    </tr>\n",
              "    <tr>\n",
              "      <th>5</th>\n",
              "      <td>6400000</td>\n",
              "      <td>495</td>\n",
              "      <td>1</td>\n",
              "      <td>0</td>\n",
              "      <td>0</td>\n",
              "      <td>0</td>\n",
              "      <td>1</td>\n",
              "      <td>0</td>\n",
              "      <td>0</td>\n",
              "      <td>0</td>\n",
              "      <td>...</td>\n",
              "      <td>0</td>\n",
              "      <td>0</td>\n",
              "      <td>0</td>\n",
              "      <td>0</td>\n",
              "      <td>0</td>\n",
              "      <td>0</td>\n",
              "      <td>0</td>\n",
              "      <td>0</td>\n",
              "      <td>0</td>\n",
              "      <td>0</td>\n",
              "    </tr>\n",
              "  </tbody>\n",
              "</table>\n",
              "<p>5 rows × 83 columns</p>\n",
              "</div>"
            ],
            "text/plain": [
              "      Price  Area  bhk  Lift  Parking  location_n  Airoli  Ambernath East  \\\n",
              "0   6200000   400    1     1        1           0       1               0   \n",
              "2  14900000  1245    2     1        1           0       1               0   \n",
              "3  14000000  1183    2     1        1           0       1               0   \n",
              "4  14800000  1245    2     1        1           0       1               0   \n",
              "5   6400000   495    1     0        0           0       1               0   \n",
              "\n",
              "   Ambernath West  Andheri East  ...  Vasai  Vasai West  Vasai east  \\\n",
              "0               0             0  ...      0           0           0   \n",
              "2               0             0  ...      0           0           0   \n",
              "3               0             0  ...      0           0           0   \n",
              "4               0             0  ...      0           0           0   \n",
              "5               0             0  ...      0           0           0   \n",
              "\n",
              "   Ville Parle East  Virar  Virar West  Wadala  Worli  mumbai  other  \n",
              "0                 0      0           0       0      0       0      0  \n",
              "2                 0      0           0       0      0       0      0  \n",
              "3                 0      0           0       0      0       0      0  \n",
              "4                 0      0           0       0      0       0      0  \n",
              "5                 0      0           0       0      0       0      0  \n",
              "\n",
              "[5 rows x 83 columns]"
            ]
          },
          "execution_count": 49,
          "metadata": {},
          "output_type": "execute_result"
        }
      ],
      "source": [
        "data_2.head()"
      ]
    },
    {
      "cell_type": "code",
      "execution_count": 50,
      "metadata": {
        "colab": {
          "base_uri": "https://localhost:8080/"
        },
        "id": "m6VxgeBko8H2",
        "outputId": "fbe7ee8a-014a-4cb2-929a-e6bc377f927c"
      },
      "outputs": [
        {
          "data": {
            "text/plain": [
              "(4615, 83)"
            ]
          },
          "execution_count": 50,
          "metadata": {},
          "output_type": "execute_result"
        }
      ],
      "source": [
        "data_2.shape"
      ]
    },
    {
      "cell_type": "code",
      "execution_count": 51,
      "metadata": {
        "id": "jq8-3quGpHKv"
      },
      "outputs": [],
      "source": [
        "X = data_2.drop('Price',axis='columns')"
      ]
    },
    {
      "cell_type": "code",
      "execution_count": 52,
      "metadata": {
        "colab": {
          "base_uri": "https://localhost:8080/",
          "height": 352
        },
        "id": "gtukbQTxpRyt",
        "outputId": "09f2eb5c-d723-4fd7-b963-545df413e9f4"
      },
      "outputs": [
        {
          "data": {
            "text/html": [
              "<div>\n",
              "<style scoped>\n",
              "    .dataframe tbody tr th:only-of-type {\n",
              "        vertical-align: middle;\n",
              "    }\n",
              "\n",
              "    .dataframe tbody tr th {\n",
              "        vertical-align: top;\n",
              "    }\n",
              "\n",
              "    .dataframe thead th {\n",
              "        text-align: right;\n",
              "    }\n",
              "</style>\n",
              "<table border=\"1\" class=\"dataframe\">\n",
              "  <thead>\n",
              "    <tr style=\"text-align: right;\">\n",
              "      <th></th>\n",
              "      <th>Area</th>\n",
              "      <th>bhk</th>\n",
              "      <th>Lift</th>\n",
              "      <th>Parking</th>\n",
              "      <th>location_n</th>\n",
              "      <th>Airoli</th>\n",
              "      <th>Ambernath East</th>\n",
              "      <th>Ambernath West</th>\n",
              "      <th>Andheri East</th>\n",
              "      <th>Andheri West</th>\n",
              "      <th>...</th>\n",
              "      <th>Vasai</th>\n",
              "      <th>Vasai West</th>\n",
              "      <th>Vasai east</th>\n",
              "      <th>Ville Parle East</th>\n",
              "      <th>Virar</th>\n",
              "      <th>Virar West</th>\n",
              "      <th>Wadala</th>\n",
              "      <th>Worli</th>\n",
              "      <th>mumbai</th>\n",
              "      <th>other</th>\n",
              "    </tr>\n",
              "  </thead>\n",
              "  <tbody>\n",
              "    <tr>\n",
              "      <th>0</th>\n",
              "      <td>400</td>\n",
              "      <td>1</td>\n",
              "      <td>1</td>\n",
              "      <td>1</td>\n",
              "      <td>0</td>\n",
              "      <td>1</td>\n",
              "      <td>0</td>\n",
              "      <td>0</td>\n",
              "      <td>0</td>\n",
              "      <td>0</td>\n",
              "      <td>...</td>\n",
              "      <td>0</td>\n",
              "      <td>0</td>\n",
              "      <td>0</td>\n",
              "      <td>0</td>\n",
              "      <td>0</td>\n",
              "      <td>0</td>\n",
              "      <td>0</td>\n",
              "      <td>0</td>\n",
              "      <td>0</td>\n",
              "      <td>0</td>\n",
              "    </tr>\n",
              "    <tr>\n",
              "      <th>2</th>\n",
              "      <td>1245</td>\n",
              "      <td>2</td>\n",
              "      <td>1</td>\n",
              "      <td>1</td>\n",
              "      <td>0</td>\n",
              "      <td>1</td>\n",
              "      <td>0</td>\n",
              "      <td>0</td>\n",
              "      <td>0</td>\n",
              "      <td>0</td>\n",
              "      <td>...</td>\n",
              "      <td>0</td>\n",
              "      <td>0</td>\n",
              "      <td>0</td>\n",
              "      <td>0</td>\n",
              "      <td>0</td>\n",
              "      <td>0</td>\n",
              "      <td>0</td>\n",
              "      <td>0</td>\n",
              "      <td>0</td>\n",
              "      <td>0</td>\n",
              "    </tr>\n",
              "    <tr>\n",
              "      <th>3</th>\n",
              "      <td>1183</td>\n",
              "      <td>2</td>\n",
              "      <td>1</td>\n",
              "      <td>1</td>\n",
              "      <td>0</td>\n",
              "      <td>1</td>\n",
              "      <td>0</td>\n",
              "      <td>0</td>\n",
              "      <td>0</td>\n",
              "      <td>0</td>\n",
              "      <td>...</td>\n",
              "      <td>0</td>\n",
              "      <td>0</td>\n",
              "      <td>0</td>\n",
              "      <td>0</td>\n",
              "      <td>0</td>\n",
              "      <td>0</td>\n",
              "      <td>0</td>\n",
              "      <td>0</td>\n",
              "      <td>0</td>\n",
              "      <td>0</td>\n",
              "    </tr>\n",
              "    <tr>\n",
              "      <th>4</th>\n",
              "      <td>1245</td>\n",
              "      <td>2</td>\n",
              "      <td>1</td>\n",
              "      <td>1</td>\n",
              "      <td>0</td>\n",
              "      <td>1</td>\n",
              "      <td>0</td>\n",
              "      <td>0</td>\n",
              "      <td>0</td>\n",
              "      <td>0</td>\n",
              "      <td>...</td>\n",
              "      <td>0</td>\n",
              "      <td>0</td>\n",
              "      <td>0</td>\n",
              "      <td>0</td>\n",
              "      <td>0</td>\n",
              "      <td>0</td>\n",
              "      <td>0</td>\n",
              "      <td>0</td>\n",
              "      <td>0</td>\n",
              "      <td>0</td>\n",
              "    </tr>\n",
              "    <tr>\n",
              "      <th>5</th>\n",
              "      <td>495</td>\n",
              "      <td>1</td>\n",
              "      <td>0</td>\n",
              "      <td>0</td>\n",
              "      <td>0</td>\n",
              "      <td>1</td>\n",
              "      <td>0</td>\n",
              "      <td>0</td>\n",
              "      <td>0</td>\n",
              "      <td>0</td>\n",
              "      <td>...</td>\n",
              "      <td>0</td>\n",
              "      <td>0</td>\n",
              "      <td>0</td>\n",
              "      <td>0</td>\n",
              "      <td>0</td>\n",
              "      <td>0</td>\n",
              "      <td>0</td>\n",
              "      <td>0</td>\n",
              "      <td>0</td>\n",
              "      <td>0</td>\n",
              "    </tr>\n",
              "  </tbody>\n",
              "</table>\n",
              "<p>5 rows × 82 columns</p>\n",
              "</div>"
            ],
            "text/plain": [
              "   Area  bhk  Lift  Parking  location_n  Airoli  Ambernath East  \\\n",
              "0   400    1     1        1           0       1               0   \n",
              "2  1245    2     1        1           0       1               0   \n",
              "3  1183    2     1        1           0       1               0   \n",
              "4  1245    2     1        1           0       1               0   \n",
              "5   495    1     0        0           0       1               0   \n",
              "\n",
              "   Ambernath West  Andheri East  Andheri West  ...  Vasai  Vasai West  \\\n",
              "0               0             0             0  ...      0           0   \n",
              "2               0             0             0  ...      0           0   \n",
              "3               0             0             0  ...      0           0   \n",
              "4               0             0             0  ...      0           0   \n",
              "5               0             0             0  ...      0           0   \n",
              "\n",
              "   Vasai east  Ville Parle East  Virar  Virar West  Wadala  Worli  mumbai  \\\n",
              "0           0                 0      0           0       0      0       0   \n",
              "2           0                 0      0           0       0      0       0   \n",
              "3           0                 0      0           0       0      0       0   \n",
              "4           0                 0      0           0       0      0       0   \n",
              "5           0                 0      0           0       0      0       0   \n",
              "\n",
              "   other  \n",
              "0      0  \n",
              "2      0  \n",
              "3      0  \n",
              "4      0  \n",
              "5      0  \n",
              "\n",
              "[5 rows x 82 columns]"
            ]
          },
          "execution_count": 52,
          "metadata": {},
          "output_type": "execute_result"
        }
      ],
      "source": [
        "X.head()"
      ]
    },
    {
      "cell_type": "code",
      "execution_count": 53,
      "metadata": {
        "colab": {
          "base_uri": "https://localhost:8080/"
        },
        "id": "FTJCyBYzpVxM",
        "outputId": "fb1ae495-dda6-4025-f6ab-4a1e4a9b8cdc"
      },
      "outputs": [
        {
          "data": {
            "text/plain": [
              "0     6200000\n",
              "2    14900000\n",
              "3    14000000\n",
              "4    14800000\n",
              "5     6400000\n",
              "Name: Price, dtype: int64"
            ]
          },
          "execution_count": 53,
          "metadata": {},
          "output_type": "execute_result"
        }
      ],
      "source": [
        "y = data_2.Price\n",
        "y.head()"
      ]
    },
    {
      "cell_type": "code",
      "execution_count": 54,
      "metadata": {
        "id": "rU2Nl81QpeYi"
      },
      "outputs": [],
      "source": [
        "from sklearn.model_selection import train_test_split\n",
        "X_train, X_test, y_train, y_test = train_test_split(X,y,test_size=0.2,random_state=3,shuffle = True)"
      ]
    },
    {
      "cell_type": "code",
      "execution_count": 55,
      "metadata": {
        "colab": {
          "base_uri": "https://localhost:8080/"
        },
        "id": "HwGpBP8Gp9hj",
        "outputId": "a3ba7f94-91a6-4cca-fccb-3b03dca6e21e"
      },
      "outputs": [
        {
          "data": {
            "text/plain": [
              "0.7687154812318968"
            ]
          },
          "execution_count": 55,
          "metadata": {},
          "output_type": "execute_result"
        }
      ],
      "source": [
        "from sklearn.linear_model import LinearRegression\n",
        "lr_clf = LinearRegression()\n",
        "lr_clf.fit(X_train,y_train)\n",
        "lr_clf.score(X_test,y_test)"
      ]
    },
    {
      "cell_type": "code",
      "execution_count": 56,
      "metadata": {
        "colab": {
          "base_uri": "https://localhost:8080/"
        },
        "id": "Lqfa-LrBqbV_",
        "outputId": "8b73bcba-9339-4e87-dc92-b31759e52bb8"
      },
      "outputs": [
        {
          "data": {
            "text/plain": [
              "array([0.76871548, 0.76847036, 0.74264884, 0.70155924, 0.66164827])"
            ]
          },
          "execution_count": 56,
          "metadata": {},
          "output_type": "execute_result"
        }
      ],
      "source": [
        "from sklearn.model_selection import ShuffleSplit\n",
        "from sklearn.model_selection import cross_val_score\n",
        "\n",
        "cv = ShuffleSplit(n_splits=5, test_size=0.2,random_state=3)\n",
        "cross_val_score(LinearRegression(),X,y,cv=cv)"
      ]
    },
    {
      "cell_type": "code",
      "execution_count": 57,
      "metadata": {},
      "outputs": [],
      "source": [
        "from sklearn.pipeline import make_pipeline\n",
        "from sklearn.preprocessing import StandardScaler\n",
        "model = make_pipeline(StandardScaler(with_mean=False), LinearRegression())"
      ]
    },
    {
      "cell_type": "code",
      "execution_count": 58,
      "metadata": {
        "colab": {
          "base_uri": "https://localhost:8080/",
          "height": 1000
        },
        "id": "Cy6ugboGrJs8",
        "outputId": "83edb187-0dbc-42e1-aabb-a5199d532ac1"
      },
      "outputs": [
        {
          "name": "stderr",
          "output_type": "stream",
          "text": [
            "c:\\Python310\\lib\\site-packages\\sklearn\\linear_model\\_base.py:141: FutureWarning: 'normalize' was deprecated in version 1.0 and will be removed in 1.2.\n",
            "If you wish to scale the data, use Pipeline with a StandardScaler in a preprocessing stage. To reproduce the previous behavior:\n",
            "\n",
            "from sklearn.pipeline import make_pipeline\n",
            "\n",
            "model = make_pipeline(StandardScaler(with_mean=False), LinearRegression())\n",
            "\n",
            "If you wish to pass a sample_weight parameter, you need to pass it as a fit parameter to each step of the pipeline as follows:\n",
            "\n",
            "kwargs = {s[0] + '__sample_weight': sample_weight for s in model.steps}\n",
            "model.fit(X, y, **kwargs)\n",
            "\n",
            "\n",
            "  warnings.warn(\n",
            "c:\\Python310\\lib\\site-packages\\sklearn\\linear_model\\_base.py:141: FutureWarning: 'normalize' was deprecated in version 1.0 and will be removed in 1.2.\n",
            "If you wish to scale the data, use Pipeline with a StandardScaler in a preprocessing stage. To reproduce the previous behavior:\n",
            "\n",
            "from sklearn.pipeline import make_pipeline\n",
            "\n",
            "model = make_pipeline(StandardScaler(with_mean=False), LinearRegression())\n",
            "\n",
            "If you wish to pass a sample_weight parameter, you need to pass it as a fit parameter to each step of the pipeline as follows:\n",
            "\n",
            "kwargs = {s[0] + '__sample_weight': sample_weight for s in model.steps}\n",
            "model.fit(X, y, **kwargs)\n",
            "\n",
            "\n",
            "  warnings.warn(\n",
            "c:\\Python310\\lib\\site-packages\\sklearn\\linear_model\\_base.py:141: FutureWarning: 'normalize' was deprecated in version 1.0 and will be removed in 1.2.\n",
            "If you wish to scale the data, use Pipeline with a StandardScaler in a preprocessing stage. To reproduce the previous behavior:\n",
            "\n",
            "from sklearn.pipeline import make_pipeline\n",
            "\n",
            "model = make_pipeline(StandardScaler(with_mean=False), LinearRegression())\n",
            "\n",
            "If you wish to pass a sample_weight parameter, you need to pass it as a fit parameter to each step of the pipeline as follows:\n",
            "\n",
            "kwargs = {s[0] + '__sample_weight': sample_weight for s in model.steps}\n",
            "model.fit(X, y, **kwargs)\n",
            "\n",
            "\n",
            "  warnings.warn(\n",
            "c:\\Python310\\lib\\site-packages\\sklearn\\linear_model\\_base.py:141: FutureWarning: 'normalize' was deprecated in version 1.0 and will be removed in 1.2.\n",
            "If you wish to scale the data, use Pipeline with a StandardScaler in a preprocessing stage. To reproduce the previous behavior:\n",
            "\n",
            "from sklearn.pipeline import make_pipeline\n",
            "\n",
            "model = make_pipeline(StandardScaler(with_mean=False), LinearRegression())\n",
            "\n",
            "If you wish to pass a sample_weight parameter, you need to pass it as a fit parameter to each step of the pipeline as follows:\n",
            "\n",
            "kwargs = {s[0] + '__sample_weight': sample_weight for s in model.steps}\n",
            "model.fit(X, y, **kwargs)\n",
            "\n",
            "\n",
            "  warnings.warn(\n",
            "c:\\Python310\\lib\\site-packages\\sklearn\\linear_model\\_base.py:141: FutureWarning: 'normalize' was deprecated in version 1.0 and will be removed in 1.2.\n",
            "If you wish to scale the data, use Pipeline with a StandardScaler in a preprocessing stage. To reproduce the previous behavior:\n",
            "\n",
            "from sklearn.pipeline import make_pipeline\n",
            "\n",
            "model = make_pipeline(StandardScaler(with_mean=False), LinearRegression())\n",
            "\n",
            "If you wish to pass a sample_weight parameter, you need to pass it as a fit parameter to each step of the pipeline as follows:\n",
            "\n",
            "kwargs = {s[0] + '__sample_weight': sample_weight for s in model.steps}\n",
            "model.fit(X, y, **kwargs)\n",
            "\n",
            "\n",
            "  warnings.warn(\n",
            "c:\\Python310\\lib\\site-packages\\sklearn\\linear_model\\_base.py:148: FutureWarning: 'normalize' was deprecated in version 1.0 and will be removed in 1.2. Please leave the normalize parameter to its default value to silence this warning. The default behavior of this estimator is to not do any normalization. If normalization is needed please use sklearn.preprocessing.StandardScaler instead.\n",
            "  warnings.warn(\n",
            "c:\\Python310\\lib\\site-packages\\sklearn\\linear_model\\_base.py:148: FutureWarning: 'normalize' was deprecated in version 1.0 and will be removed in 1.2. Please leave the normalize parameter to its default value to silence this warning. The default behavior of this estimator is to not do any normalization. If normalization is needed please use sklearn.preprocessing.StandardScaler instead.\n",
            "  warnings.warn(\n",
            "c:\\Python310\\lib\\site-packages\\sklearn\\linear_model\\_base.py:148: FutureWarning: 'normalize' was deprecated in version 1.0 and will be removed in 1.2. Please leave the normalize parameter to its default value to silence this warning. The default behavior of this estimator is to not do any normalization. If normalization is needed please use sklearn.preprocessing.StandardScaler instead.\n",
            "  warnings.warn(\n",
            "c:\\Python310\\lib\\site-packages\\sklearn\\linear_model\\_base.py:148: FutureWarning: 'normalize' was deprecated in version 1.0 and will be removed in 1.2. Please leave the normalize parameter to its default value to silence this warning. The default behavior of this estimator is to not do any normalization. If normalization is needed please use sklearn.preprocessing.StandardScaler instead.\n",
            "  warnings.warn(\n",
            "c:\\Python310\\lib\\site-packages\\sklearn\\linear_model\\_base.py:148: FutureWarning: 'normalize' was deprecated in version 1.0 and will be removed in 1.2. Please leave the normalize parameter to its default value to silence this warning. The default behavior of this estimator is to not do any normalization. If normalization is needed please use sklearn.preprocessing.StandardScaler instead.\n",
            "  warnings.warn(\n",
            "c:\\Python310\\lib\\site-packages\\sklearn\\linear_model\\_base.py:148: FutureWarning: 'normalize' was deprecated in version 1.0 and will be removed in 1.2. Please leave the normalize parameter to its default value to silence this warning. The default behavior of this estimator is to not do any normalization. If normalization is needed please use sklearn.preprocessing.StandardScaler instead.\n",
            "  warnings.warn(\n",
            "c:\\Python310\\lib\\site-packages\\sklearn\\linear_model\\_coordinate_descent.py:648: ConvergenceWarning: Objective did not converge. You might want to increase the number of iterations, check the scale of the features or consider increasing regularisation. Duality gap: 9.963e+16, tolerance: 1.114e+14\n",
            "  model = cd_fast.enet_coordinate_descent(\n",
            "c:\\Python310\\lib\\site-packages\\sklearn\\linear_model\\_coordinate_descent.py:648: ConvergenceWarning: Objective did not converge. You might want to increase the number of iterations, check the scale of the features or consider increasing regularisation. Duality gap: 1.283e+17, tolerance: 1.117e+14\n",
            "  model = cd_fast.enet_coordinate_descent(\n",
            "c:\\Python310\\lib\\site-packages\\sklearn\\linear_model\\_coordinate_descent.py:648: ConvergenceWarning: Objective did not converge. You might want to increase the number of iterations, check the scale of the features or consider increasing regularisation. Duality gap: 9.651e+16, tolerance: 9.970e+13\n",
            "  model = cd_fast.enet_coordinate_descent(\n",
            "c:\\Python310\\lib\\site-packages\\sklearn\\linear_model\\_coordinate_descent.py:648: ConvergenceWarning: Objective did not converge. You might want to increase the number of iterations, check the scale of the features or consider increasing regularisation. Duality gap: 1.024e+17, tolerance: 9.381e+13\n",
            "  model = cd_fast.enet_coordinate_descent(\n",
            "c:\\Python310\\lib\\site-packages\\sklearn\\linear_model\\_coordinate_descent.py:648: ConvergenceWarning: Objective did not converge. You might want to increase the number of iterations, check the scale of the features or consider increasing regularisation. Duality gap: 1.323e+17, tolerance: 1.134e+14\n",
            "  model = cd_fast.enet_coordinate_descent(\n",
            "c:\\Python310\\lib\\site-packages\\sklearn\\linear_model\\_coordinate_descent.py:648: ConvergenceWarning: Objective did not converge. You might want to increase the number of iterations, check the scale of the features or consider increasing regularisation. Duality gap: 2.369e+16, tolerance: 1.114e+14\n",
            "  model = cd_fast.enet_coordinate_descent(\n",
            "c:\\Python310\\lib\\site-packages\\sklearn\\linear_model\\_coordinate_descent.py:648: ConvergenceWarning: Objective did not converge. You might want to increase the number of iterations, check the scale of the features or consider increasing regularisation. Duality gap: 2.065e+16, tolerance: 1.117e+14\n",
            "  model = cd_fast.enet_coordinate_descent(\n",
            "c:\\Python310\\lib\\site-packages\\sklearn\\linear_model\\_coordinate_descent.py:648: ConvergenceWarning: Objective did not converge. You might want to increase the number of iterations, check the scale of the features or consider increasing regularisation. Duality gap: 1.932e+16, tolerance: 9.970e+13\n",
            "  model = cd_fast.enet_coordinate_descent(\n",
            "c:\\Python310\\lib\\site-packages\\sklearn\\linear_model\\_coordinate_descent.py:648: ConvergenceWarning: Objective did not converge. You might want to increase the number of iterations, check the scale of the features or consider increasing regularisation. Duality gap: 2.044e+16, tolerance: 9.381e+13\n",
            "  model = cd_fast.enet_coordinate_descent(\n",
            "c:\\Python310\\lib\\site-packages\\sklearn\\linear_model\\_coordinate_descent.py:648: ConvergenceWarning: Objective did not converge. You might want to increase the number of iterations, check the scale of the features or consider increasing regularisation. Duality gap: 1.659e+16, tolerance: 1.134e+14\n",
            "  model = cd_fast.enet_coordinate_descent(\n",
            "c:\\Python310\\lib\\site-packages\\sklearn\\linear_model\\_coordinate_descent.py:648: ConvergenceWarning: Objective did not converge. You might want to increase the number of iterations, check the scale of the features or consider increasing regularisation. Duality gap: 1.341e+17, tolerance: 1.114e+14\n",
            "  model = cd_fast.enet_coordinate_descent(\n",
            "c:\\Python310\\lib\\site-packages\\sklearn\\linear_model\\_coordinate_descent.py:648: ConvergenceWarning: Objective did not converge. You might want to increase the number of iterations, check the scale of the features or consider increasing regularisation. Duality gap: 1.288e+17, tolerance: 1.117e+14\n",
            "  model = cd_fast.enet_coordinate_descent(\n",
            "c:\\Python310\\lib\\site-packages\\sklearn\\linear_model\\_coordinate_descent.py:648: ConvergenceWarning: Objective did not converge. You might want to increase the number of iterations, check the scale of the features or consider increasing regularisation. Duality gap: 1.018e+17, tolerance: 9.970e+13\n",
            "  model = cd_fast.enet_coordinate_descent(\n",
            "c:\\Python310\\lib\\site-packages\\sklearn\\linear_model\\_coordinate_descent.py:648: ConvergenceWarning: Objective did not converge. You might want to increase the number of iterations, check the scale of the features or consider increasing regularisation. Duality gap: 9.949e+16, tolerance: 9.381e+13\n",
            "  model = cd_fast.enet_coordinate_descent(\n",
            "c:\\Python310\\lib\\site-packages\\sklearn\\linear_model\\_coordinate_descent.py:648: ConvergenceWarning: Objective did not converge. You might want to increase the number of iterations, check the scale of the features or consider increasing regularisation. Duality gap: 1.310e+17, tolerance: 1.134e+14\n",
            "  model = cd_fast.enet_coordinate_descent(\n",
            "c:\\Python310\\lib\\site-packages\\sklearn\\linear_model\\_coordinate_descent.py:648: ConvergenceWarning: Objective did not converge. You might want to increase the number of iterations, check the scale of the features or consider increasing regularisation. Duality gap: 2.369e+16, tolerance: 1.114e+14\n",
            "  model = cd_fast.enet_coordinate_descent(\n",
            "c:\\Python310\\lib\\site-packages\\sklearn\\linear_model\\_coordinate_descent.py:648: ConvergenceWarning: Objective did not converge. You might want to increase the number of iterations, check the scale of the features or consider increasing regularisation. Duality gap: 2.065e+16, tolerance: 1.117e+14\n",
            "  model = cd_fast.enet_coordinate_descent(\n",
            "c:\\Python310\\lib\\site-packages\\sklearn\\linear_model\\_coordinate_descent.py:648: ConvergenceWarning: Objective did not converge. You might want to increase the number of iterations, check the scale of the features or consider increasing regularisation. Duality gap: 1.932e+16, tolerance: 9.970e+13\n",
            "  model = cd_fast.enet_coordinate_descent(\n",
            "c:\\Python310\\lib\\site-packages\\sklearn\\linear_model\\_coordinate_descent.py:648: ConvergenceWarning: Objective did not converge. You might want to increase the number of iterations, check the scale of the features or consider increasing regularisation. Duality gap: 2.044e+16, tolerance: 9.381e+13\n",
            "  model = cd_fast.enet_coordinate_descent(\n",
            "c:\\Python310\\lib\\site-packages\\sklearn\\linear_model\\_coordinate_descent.py:648: ConvergenceWarning: Objective did not converge. You might want to increase the number of iterations, check the scale of the features or consider increasing regularisation. Duality gap: 1.659e+16, tolerance: 1.134e+14\n",
            "  model = cd_fast.enet_coordinate_descent(\n",
            "c:\\Python310\\lib\\site-packages\\sklearn\\linear_model\\_coordinate_descent.py:648: ConvergenceWarning: Objective did not converge. You might want to increase the number of iterations, check the scale of the features or consider increasing regularisation. Duality gap: 1.502e+17, tolerance: 1.330e+14\n",
            "  model = cd_fast.enet_coordinate_descent(\n",
            "c:\\Python310\\lib\\site-packages\\sklearn\\tree\\_classes.py:397: FutureWarning: Criterion 'mse' was deprecated in v1.0 and will be removed in version 1.2. Use `criterion='squared_error'` which is equivalent.\n",
            "  warnings.warn(\n",
            "c:\\Python310\\lib\\site-packages\\sklearn\\tree\\_classes.py:397: FutureWarning: Criterion 'mse' was deprecated in v1.0 and will be removed in version 1.2. Use `criterion='squared_error'` which is equivalent.\n",
            "  warnings.warn(\n",
            "c:\\Python310\\lib\\site-packages\\sklearn\\tree\\_classes.py:397: FutureWarning: Criterion 'mse' was deprecated in v1.0 and will be removed in version 1.2. Use `criterion='squared_error'` which is equivalent.\n",
            "  warnings.warn(\n",
            "c:\\Python310\\lib\\site-packages\\sklearn\\tree\\_classes.py:397: FutureWarning: Criterion 'mse' was deprecated in v1.0 and will be removed in version 1.2. Use `criterion='squared_error'` which is equivalent.\n",
            "  warnings.warn(\n",
            "c:\\Python310\\lib\\site-packages\\sklearn\\tree\\_classes.py:397: FutureWarning: Criterion 'mse' was deprecated in v1.0 and will be removed in version 1.2. Use `criterion='squared_error'` which is equivalent.\n",
            "  warnings.warn(\n",
            "c:\\Python310\\lib\\site-packages\\sklearn\\tree\\_classes.py:397: FutureWarning: Criterion 'mse' was deprecated in v1.0 and will be removed in version 1.2. Use `criterion='squared_error'` which is equivalent.\n",
            "  warnings.warn(\n",
            "c:\\Python310\\lib\\site-packages\\sklearn\\tree\\_classes.py:397: FutureWarning: Criterion 'mse' was deprecated in v1.0 and will be removed in version 1.2. Use `criterion='squared_error'` which is equivalent.\n",
            "  warnings.warn(\n",
            "c:\\Python310\\lib\\site-packages\\sklearn\\tree\\_classes.py:397: FutureWarning: Criterion 'mse' was deprecated in v1.0 and will be removed in version 1.2. Use `criterion='squared_error'` which is equivalent.\n",
            "  warnings.warn(\n",
            "c:\\Python310\\lib\\site-packages\\sklearn\\tree\\_classes.py:397: FutureWarning: Criterion 'mse' was deprecated in v1.0 and will be removed in version 1.2. Use `criterion='squared_error'` which is equivalent.\n",
            "  warnings.warn(\n",
            "c:\\Python310\\lib\\site-packages\\sklearn\\tree\\_classes.py:397: FutureWarning: Criterion 'mse' was deprecated in v1.0 and will be removed in version 1.2. Use `criterion='squared_error'` which is equivalent.\n",
            "  warnings.warn(\n"
          ]
        },
        {
          "data": {
            "text/html": [
              "<div>\n",
              "<style scoped>\n",
              "    .dataframe tbody tr th:only-of-type {\n",
              "        vertical-align: middle;\n",
              "    }\n",
              "\n",
              "    .dataframe tbody tr th {\n",
              "        vertical-align: top;\n",
              "    }\n",
              "\n",
              "    .dataframe thead th {\n",
              "        text-align: right;\n",
              "    }\n",
              "</style>\n",
              "<table border=\"1\" class=\"dataframe\">\n",
              "  <thead>\n",
              "    <tr style=\"text-align: right;\">\n",
              "      <th></th>\n",
              "      <th>model</th>\n",
              "      <th>best_score</th>\n",
              "      <th>best_params</th>\n",
              "    </tr>\n",
              "  </thead>\n",
              "  <tbody>\n",
              "    <tr>\n",
              "      <th>0</th>\n",
              "      <td>linear_regression</td>\n",
              "      <td>0.769624</td>\n",
              "      <td>{'normalize': False}</td>\n",
              "    </tr>\n",
              "    <tr>\n",
              "      <th>1</th>\n",
              "      <td>lasso</td>\n",
              "      <td>0.769624</td>\n",
              "      <td>{'alpha': 2, 'selection': 'random'}</td>\n",
              "    </tr>\n",
              "    <tr>\n",
              "      <th>2</th>\n",
              "      <td>decision_tree</td>\n",
              "      <td>0.799345</td>\n",
              "      <td>{'criterion': 'friedman_mse', 'splitter': 'ran...</td>\n",
              "    </tr>\n",
              "  </tbody>\n",
              "</table>\n",
              "</div>"
            ],
            "text/plain": [
              "               model  best_score  \\\n",
              "0  linear_regression    0.769624   \n",
              "1              lasso    0.769624   \n",
              "2      decision_tree    0.799345   \n",
              "\n",
              "                                         best_params  \n",
              "0                               {'normalize': False}  \n",
              "1                {'alpha': 2, 'selection': 'random'}  \n",
              "2  {'criterion': 'friedman_mse', 'splitter': 'ran...  "
            ]
          },
          "execution_count": 58,
          "metadata": {},
          "output_type": "execute_result"
        }
      ],
      "source": [
        "from sklearn.model_selection import GridSearchCV\n",
        "from sklearn.linear_model import Lasso\n",
        "from sklearn.tree import DecisionTreeRegressor\n",
        "\n",
        "def find_best_model(X,y):\n",
        "  algos = {\n",
        "      'linear_regression':{\n",
        "          'model': LinearRegression(),\n",
        "          'params':{\n",
        "              'normalize':[True,False]\n",
        "          }\n",
        "      },\n",
        "      \n",
        "      'lasso':{\n",
        "          'model': Lasso(),\n",
        "          'params':{\n",
        "              'alpha':[1,2],\n",
        "              'selection':['random','cyclic']\n",
        "          }\n",
        "      },\n",
        "\n",
        "      'decision_tree':{\n",
        "          'model':DecisionTreeRegressor(),\n",
        "          'params':{\n",
        "              'criterion': ['mse','friedman_mse'],\n",
        "              'splitter' : ['best','random']\n",
        "          }\n",
        "      }\n",
        "  }\n",
        "  scores= []\n",
        "  cv = ShuffleSplit(n_splits=5, test_size = 0.2, random_state= 0)\n",
        "  for algo_name,config in algos.items():\n",
        "    gs = GridSearchCV(config['model'],config['params'],cv = cv, return_train_score=False)\n",
        "    gs.fit(X,y)\n",
        "    scores.append({\n",
        "        'model': algo_name,\n",
        "        'best_score': gs.best_score_,\n",
        "        'best_params': gs.best_params_\n",
        "    })\n",
        "  return pd.DataFrame(scores,columns=['model','best_score','best_params'])\n",
        "\n",
        "find_best_model(X,y)"
      ]
    },
    {
      "cell_type": "code",
      "execution_count": 59,
      "metadata": {
        "colab": {
          "base_uri": "https://localhost:8080/"
        },
        "id": "FTwR2TVquhRt",
        "outputId": "c9238d6e-49ed-4379-ee49-5775ba078bdc"
      },
      "outputs": [
        {
          "data": {
            "text/plain": [
              "Index(['Area', 'bhk', 'Lift', 'Parking', 'location_n', 'Airoli',\n",
              "       'Ambernath East', 'Ambernath West', 'Andheri East', 'Andheri West',\n",
              "       'Badlapur East', 'Bandra East', 'Bandra West', 'Belapur',\n",
              "       'Bhandup West', 'Bhayandar East', 'Bhiwandi', 'Boisar', 'Borivali East',\n",
              "       'Borivali West', 'Chembur', 'Chembur East', 'Dahisar', 'Dahisar East',\n",
              "       'Dahisar West', 'Dattapada', 'Dombivali', 'Dombivali East',\n",
              "       'Dombivli (West)', 'Dronagiri', 'Ghansoli', 'Ghatkopar West',\n",
              "       'Goregaon', 'Goregaon East', 'Goregaon West', 'Jogeshwari West', 'Juhu',\n",
              "       'Kalwa', 'Kalyan West', 'Kamothe', 'Kandivali East', 'Kandivali West',\n",
              "       'Kanjurmarg', 'Karanjade', 'Kharghar', 'Koper Khairane', 'Koproli',\n",
              "       'Kurla', 'Magathane', 'Malad East', 'Malad West', 'Mira Road East',\n",
              "       'Mira Road and Beyond', 'Mulund East', 'Mulund West', 'Naigaon East',\n",
              "       'Nala Sopara', 'Nalasopara West', 'Nerul', 'Panvel', 'Parel', 'Powai',\n",
              "       'Sanpada', 'Santacruz East', 'Seawoods', 'Sector 17 Ulwe',\n",
              "       'Sector 20 Kharghar', 'Taloja', 'Thane', 'Thane West', 'Titwala',\n",
              "       'Ulwe', 'Vasai', 'Vasai West', 'Vasai east', 'Ville Parle East',\n",
              "       'Virar', 'Virar West', 'Wadala', 'Worli', 'mumbai', 'other'],\n",
              "      dtype='object')"
            ]
          },
          "execution_count": 59,
          "metadata": {},
          "output_type": "execute_result"
        }
      ],
      "source": [
        "X.columns"
      ]
    },
    {
      "cell_type": "code",
      "execution_count": 60,
      "metadata": {
        "id": "q4QqsGcsvlwe"
      },
      "outputs": [],
      "source": [
        "def predict(Location,Area,bhk,Lift,Parking):\n",
        "  loc_index = np.where(X.columns==Location)[0][0]\n",
        "  \n",
        "\n",
        "  x = np.zeros(len(X.columns))\n",
        "  x[0] = Area\n",
        "  x[1] = bhk\n",
        "  x[2] = Lift\n",
        "  x[3] = Parking\n",
        "  if loc_index >=0:\n",
        "    x[loc_index] = 1\n",
        "  return lr_clf.predict([x])[0]"
      ]
    },
    {
      "cell_type": "code",
      "execution_count": 61,
      "metadata": {},
      "outputs": [],
      "source": [
        "# data_convert = X.drop(['Area', 'bhk', 'Lift', 'Parking', 'location_n', 'Airoli',\n",
        "#        'Ambernath East', 'Ambernath West', 'Andheri East', 'Andheri West',\n",
        "#        'Badlapur East', 'Bandra East', 'Bandra West', 'Belapur',\n",
        "#        'Bhandup West', 'Bhayandar East', 'Bhiwandi', 'Boisar', 'Borivali East',\n",
        "#        'Borivali West', 'Chembur', 'Chembur East', 'Dahisar', 'Dahisar East',\n",
        "#        'Dahisar West', 'Dattapada', 'Dombivali', 'Dombivali East',\n",
        "#        'Dombivli (West)', 'Dronagiri', 'Ghansoli', 'Ghatkopar West',\n",
        "#        'Goregaon', 'Goregaon East', 'Goregaon West', 'Jogeshwari West', 'Juhu',\n",
        "#        'Kalwa', 'Kalyan West', 'Kamothe', 'Kandivali East', 'Kandivali West',\n",
        "#        'Kanjurmarg', 'Karanjade', 'Kharghar', 'Koper Khairane', 'Koproli',\n",
        "#        'Kurla', 'Magathane', 'Malad East', 'Malad West', 'Mira Road East',\n",
        "#        'Mira Road and Beyond', 'Mulund East', 'Mulund West', 'Naigaon East',\n",
        "#        'Nala Sopara', 'Nalasopara West', 'Nerul', 'Panvel', 'Parel', 'Powai',\n",
        "#        'Sanpada', 'Santacruz East', 'Seawoods', 'Sector 17 Ulwe',\n",
        "#        'Sector 20 Kharghar', 'Taloja', 'Thane', 'Thane West', 'Titwala',\n",
        "#        'Ulwe', 'Vasai', 'Vasai West', 'Vasai east', 'Ville Parle East',\n",
        "#        'Virar', 'Virar West', 'Wadala', 'Worli', 'mumbai', 'other'],axis='columns')\n",
        "# data_convert.to_csv(\"convert.csv\",index=False)\n",
        "# def convert(place):\n",
        "#     from sklearn.preprocessing import LabelEncoder\n",
        "#     place = LabelEncoder() \n",
        "#     X['new_location'] = place.fit_transform(X['Location'])\n",
        "#     if X.new_Location == X.columns:\n",
        "#        return X.location_n\n"
      ]
    },
    {
      "cell_type": "code",
      "execution_count": 62,
      "metadata": {
        "colab": {
          "base_uri": "https://localhost:8080/"
        },
        "id": "hnzAMPemxZEu",
        "outputId": "ac1d8138-79c5-4e7e-f13f-2da07d2f10d3"
      },
      "outputs": [
        {
          "name": "stderr",
          "output_type": "stream",
          "text": [
            "c:\\Python310\\lib\\site-packages\\sklearn\\base.py:450: UserWarning: X does not have valid feature names, but LinearRegression was fitted with feature names\n",
            "  warnings.warn(\n"
          ]
        },
        {
          "data": {
            "text/plain": [
              "3078771.5"
            ]
          },
          "execution_count": 62,
          "metadata": {},
          "output_type": "execute_result"
        }
      ],
      "source": [
        "predict('Dombivali',720,1,0,1)"
      ]
    },
    {
      "cell_type": "code",
      "execution_count": 63,
      "metadata": {
        "colab": {
          "base_uri": "https://localhost:8080/"
        },
        "id": "U5OvvnDdx-wW",
        "outputId": "511aeac6-4e3e-4eb5-9b14-d8804fc2bf56"
      },
      "outputs": [
        {
          "name": "stderr",
          "output_type": "stream",
          "text": [
            "c:\\Python310\\lib\\site-packages\\sklearn\\base.py:450: UserWarning: X does not have valid feature names, but LinearRegression was fitted with feature names\n",
            "  warnings.warn(\n"
          ]
        },
        {
          "data": {
            "text/plain": [
              "10396334.5"
            ]
          },
          "execution_count": 63,
          "metadata": {},
          "output_type": "execute_result"
        }
      ],
      "source": [
        "predict('Andheri East',700,2,1,0)"
      ]
    },
    {
      "cell_type": "code",
      "execution_count": 64,
      "metadata": {},
      "outputs": [],
      "source": [
        "import pickle\n",
        "with open(\"Price_prediction_model.pickle\",\"wb\") as f:\n",
        "    pickle.dump(lr_clf,f)"
      ]
    },
    {
      "cell_type": "code",
      "execution_count": 65,
      "metadata": {},
      "outputs": [],
      "source": [
        "import json\n",
        "columns = {\n",
        "    'data_columns': [col.lower() for col in X.columns]\n",
        "}\n",
        "with open(\"columns.json\",\"w\") as f:\n",
        "    f.write(json.dumps(columns))"
      ]
    },
    {
      "cell_type": "code",
      "execution_count": 66,
      "metadata": {
        "id": "MQTGk-HY3jqP"
      },
      "outputs": [
        {
          "data": {
            "text/plain": [
              "['price_predict_model.pkl']"
            ]
          },
          "execution_count": 66,
          "metadata": {},
          "output_type": "execute_result"
        }
      ],
      "source": [
        "import joblib\n",
        "joblib.dump(lr_clf,'price_predict_model.pkl')"
      ]
    },
    {
      "cell_type": "code",
      "execution_count": 67,
      "metadata": {},
      "outputs": [],
      "source": [
        "# %%writefile file.py\n",
        "# import streamlit as st\n",
        "# from pyngrok import ngrok"
      ]
    },
    {
      "cell_type": "code",
      "execution_count": 68,
      "metadata": {},
      "outputs": [],
      "source": [
        "# ngrok.set_auth_token(\"2Gx0Tjm9aNNBfuMSNmlMHRNvRIt_71BAXuYJq8iVirZHuSYn9\")\n",
        "# ! nohup streamlit run file.py --server.port 80 &\n",
        "# url = ngrok.connect(port = '80')\n",
        "# print(url)"
      ]
    },
    {
      "cell_type": "code",
      "execution_count": null,
      "metadata": {},
      "outputs": [],
      "source": []
    }
  ],
  "metadata": {
    "colab": {
      "collapsed_sections": [],
      "provenance": []
    },
    "kernelspec": {
      "display_name": "Python 3.10.5 64-bit",
      "language": "python",
      "name": "python3"
    },
    "language_info": {
      "codemirror_mode": {
        "name": "ipython",
        "version": 3
      },
      "file_extension": ".py",
      "mimetype": "text/x-python",
      "name": "python",
      "nbconvert_exporter": "python",
      "pygments_lexer": "ipython3",
      "version": "3.10.5"
    },
    "vscode": {
      "interpreter": {
        "hash": "369f2c481f4da34e4445cda3fffd2e751bd1c4d706f27375911949ba6bb62e1c"
      }
    }
  },
  "nbformat": 4,
  "nbformat_minor": 0
}
