{
  "cells": [
    {
      "cell_type": "code",
      "execution_count": null,
      "metadata": {
        "id": "ilhjMXLh_-mm"
      },
      "outputs": [],
      "source": [
        "import pandas as pd\n",
        "import matplotlib\n",
        "import matplotlib.pyplot as mp\n",
        "import numpy as np\n",
        "%matplotlib inline\n",
        "matplotlib.rcParams[\"figure.figsize\"] =(20,10)"
      ]
    },
    {
      "cell_type": "code",
      "execution_count": null,
      "metadata": {
        "id": "7DdBxNuEAJ1b"
      },
      "outputs": [],
      "source": [
        "data = pd.read_csv(\"Mumbai1.csv\")"
      ]
    },
    {
      "cell_type": "code",
      "execution_count": null,
      "metadata": {
        "colab": {
          "base_uri": "https://localhost:8080/",
          "height": 288
        },
        "id": "AGXRKXWyCgY8",
        "outputId": "6e3422e1-4211-41f2-8d21-6d021a9c14e2"
      },
      "outputs": [],
      "source": [
        "data.head()"
      ]
    },
    {
      "cell_type": "code",
      "execution_count": null,
      "metadata": {
        "colab": {
          "base_uri": "https://localhost:8080/"
        },
        "id": "4XwfamWqD1Bl",
        "outputId": "d323271b-47f1-483b-db87-5aea239cf20c"
      },
      "outputs": [],
      "source": [
        "data.shape"
      ]
    },
    {
      "cell_type": "code",
      "execution_count": null,
      "metadata": {
        "colab": {
          "base_uri": "https://localhost:8080/"
        },
        "id": "OTUfkrGoCqlf",
        "outputId": "ac6c0244-1933-41a9-fdc5-05669b6c14a5"
      },
      "outputs": [],
      "source": [
        "data.groupby(\"Area\")['Area'].agg('count')"
      ]
    },
    {
      "cell_type": "code",
      "execution_count": null,
      "metadata": {
        "colab": {
          "base_uri": "https://localhost:8080/"
        },
        "id": "NtsdOUT1DqiF",
        "outputId": "0ad84d32-d86a-4904-a3d5-545f3b23b7a9"
      },
      "outputs": [],
      "source": [
        "data.groupby(\"Car Parking\")['Car Parking'].agg('count')"
      ]
    },
    {
      "cell_type": "code",
      "execution_count": null,
      "metadata": {
        "colab": {
          "base_uri": "https://localhost:8080/"
        },
        "id": "41qCk_a2-ylW",
        "outputId": "317992c9-fd50-4cb2-e6cf-8688e820e3a2"
      },
      "outputs": [],
      "source": [
        "data.groupby(\"Landscaped Gardens\")['Landscaped Gardens'].agg('count')"
      ]
    },
    {
      "cell_type": "code",
      "execution_count": null,
      "metadata": {
        "colab": {
          "base_uri": "https://localhost:8080/"
        },
        "id": "ZFp70aCJ_nSk",
        "outputId": "50a65591-86bf-48c7-e50a-aa8afb2149d4"
      },
      "outputs": [],
      "source": [
        "data.groupby(\"Swimming Pool\")['Swimming Pool'].agg('count')"
      ]
    },
    {
      "cell_type": "code",
      "execution_count": null,
      "metadata": {
        "colab": {
          "base_uri": "https://localhost:8080/",
          "height": 206
        },
        "id": "eqfEVKEEpbfk",
        "outputId": "b3e26e77-8182-4ec8-8325-7020fab39a3d"
      },
      "outputs": [],
      "source": [
        "new_data_1 = data.drop([\"Gymnasium\",\"Intercom\",\"Indoor Games\",\"Jogging Track\",\"Clubhouse\",\"Gas Connection\",\"Unnamed: 0\",\"24x7 Security\",\"Maintenance Staff\",\"Landscaped Gardens\",\"Swimming Pool\",\"New/Resale\"],axis='columns')\n",
        "new_data_1.sample(5)"
      ]
    },
    {
      "cell_type": "code",
      "execution_count": null,
      "metadata": {},
      "outputs": [],
      "source": [
        "new_data = new_data_1.drop([\"Children's Play Area\"],axis='columns')\n",
        "new_data.sample(5)"
      ]
    },
    {
      "cell_type": "code",
      "execution_count": null,
      "metadata": {
        "colab": {
          "base_uri": "https://localhost:8080/"
        },
        "id": "yJjynT1GqELn",
        "outputId": "07cc6af0-d695-47ab-d70f-210488c8a8c0"
      },
      "outputs": [],
      "source": [
        "#data cleaning\n",
        "new_data.isnull().sum()"
      ]
    },
    {
      "cell_type": "code",
      "execution_count": null,
      "metadata": {},
      "outputs": [],
      "source": [
        "new_data.duplicated().sum()"
      ]
    },
    {
      "cell_type": "code",
      "execution_count": null,
      "metadata": {
        "colab": {
          "base_uri": "https://localhost:8080/"
        },
        "id": "_fN79Eu-rEAI",
        "outputId": "db0807cd-12ce-4c86-e45c-22fb266dd44d"
      },
      "outputs": [],
      "source": [
        "new_data.columns"
      ]
    },
    {
      "cell_type": "code",
      "execution_count": null,
      "metadata": {
        "id": "dfrg4rvDszY6"
      },
      "outputs": [],
      "source": [
        "new_data.rename(columns = {'No. of Bedrooms':'bhk'}, inplace= True)"
      ]
    },
    {
      "cell_type": "code",
      "execution_count": null,
      "metadata": {
        "id": "dl82jih4kkbh"
      },
      "outputs": [],
      "source": [
        "new_data.rename(columns = {'Lift Available':'Lift'}, inplace= True)"
      ]
    },
    {
      "cell_type": "code",
      "execution_count": null,
      "metadata": {
        "id": "OmAgXbACkrKo"
      },
      "outputs": [],
      "source": [
        "new_data.rename(columns = {'Car Parking':'Parking'}, inplace= True)"
      ]
    },
    {
      "cell_type": "code",
      "execution_count": null,
      "metadata": {
        "id": "uKeEQ_AfmFiB"
      },
      "outputs": [],
      "source": [
        "new_data.rename(columns = {\"Children's Play Area\":'PlayArea'}, inplace= True)"
      ]
    },
    {
      "cell_type": "code",
      "execution_count": null,
      "metadata": {
        "colab": {
          "base_uri": "https://localhost:8080/",
          "height": 49
        },
        "id": "lWGru9VotMWw",
        "outputId": "f33dc80f-1ccf-4a22-bcf0-0d2107a43913"
      },
      "outputs": [],
      "source": [
        "new_data[new_data.bhk>10]"
      ]
    },
    {
      "cell_type": "code",
      "execution_count": null,
      "metadata": {
        "colab": {
          "base_uri": "https://localhost:8080/"
        },
        "id": "AzBzbGLvt3i1",
        "outputId": "e9536bee-0dff-4dd8-cdd9-ae25398d8b86"
      },
      "outputs": [],
      "source": [
        "new_data.Area.unique()"
      ]
    },
    {
      "cell_type": "code",
      "execution_count": null,
      "metadata": {},
      "outputs": [],
      "source": [
        "def is_float(x):\n",
        "    try:\n",
        "        float(x)\n",
        "    except:\n",
        "        return False\n",
        "    return True"
      ]
    },
    {
      "cell_type": "code",
      "execution_count": null,
      "metadata": {
        "id": "hp-pxn7bveNu"
      },
      "outputs": [],
      "source": [
        "new_data['price_per_sqft'] = new_data['Price']/new_data['Area']"
      ]
    },
    {
      "cell_type": "code",
      "execution_count": null,
      "metadata": {},
      "outputs": [],
      "source": [
        "new_data[~new_data['price_per_sqft'].apply(is_float)].head(10)"
      ]
    },
    {
      "cell_type": "code",
      "execution_count": null,
      "metadata": {
        "colab": {
          "base_uri": "https://localhost:8080/",
          "height": 363
        },
        "id": "CFt-1ubwwQ9f",
        "outputId": "d1d0133d-f233-42f8-fb7c-994a7f214acf"
      },
      "outputs": [],
      "source": [
        "new_data.head(10)"
      ]
    },
    {
      "cell_type": "code",
      "execution_count": null,
      "metadata": {
        "colab": {
          "base_uri": "https://localhost:8080/"
        },
        "id": "1HYS8oAbwYsl",
        "outputId": "73ca3955-9a7e-4b39-c60b-c267e19b1131"
      },
      "outputs": [],
      "source": [
        "len(new_data.Location.unique())"
      ]
    },
    {
      "cell_type": "code",
      "execution_count": null,
      "metadata": {
        "colab": {
          "base_uri": "https://localhost:8080/",
          "height": 206
        },
        "id": "jHrI7sXfxqGA",
        "outputId": "c7834b4e-a13b-4966-d05a-473ee4b0e4bb"
      },
      "outputs": [],
      "source": [
        "new_data[new_data.Area/new_data.bhk<300].head()"
      ]
    },
    {
      "cell_type": "code",
      "execution_count": null,
      "metadata": {
        "colab": {
          "base_uri": "https://localhost:8080/"
        },
        "id": "RKgrmngeynBI",
        "outputId": "1692799f-79ca-4378-f4ea-7c21f2251a5e"
      },
      "outputs": [],
      "source": [
        "new_data.price_per_sqft.describe()"
      ]
    },
    {
      "cell_type": "code",
      "execution_count": null,
      "metadata": {
        "id": "gjXcxMgTzL16"
      },
      "outputs": [],
      "source": [
        "def remove_outliers(data):\n",
        "  df_out = pd.DataFrame()\n",
        "  for key, subdf in data.groupby('Location'):\n",
        "    m = np.mean(subdf.price_per_sqft)\n",
        "    st = np.std(subdf.price_per_sqft)\n",
        "    reduced_df = subdf[(subdf.price_per_sqft>(m-st)) & (subdf.price_per_sqft<=(m+st))]\n",
        "    df_out = pd.concat([df_out,reduced_df],ignore_index=True)\n",
        "  return df_out"
      ]
    },
    {
      "cell_type": "code",
      "execution_count": null,
      "metadata": {
        "id": "D187j0ct0-z0"
      },
      "outputs": [],
      "source": [
        "data_1 = remove_outliers(new_data)"
      ]
    },
    {
      "cell_type": "code",
      "execution_count": null,
      "metadata": {},
      "outputs": [],
      "source": [
        "data_1.to_csv(\"bhp.csv\",index=False)"
      ]
    },
    {
      "cell_type": "code",
      "execution_count": null,
      "metadata": {
        "colab": {
          "base_uri": "https://localhost:8080/"
        },
        "id": "q_e4raMc1zbt",
        "outputId": "d8e149dd-bd48-409f-b3ef-37474cdbadba"
      },
      "outputs": [],
      "source": [
        "data_1.shape"
      ]
    },
    {
      "cell_type": "code",
      "execution_count": null,
      "metadata": {
        "colab": {
          "base_uri": "https://localhost:8080/",
          "height": 206
        },
        "id": "eF2tZQcd2IWW",
        "outputId": "343e6bd2-91e5-4d36-98fd-bc6f5c7bcfa1"
      },
      "outputs": [],
      "source": [
        "data_1.head()"
      ]
    },
    {
      "cell_type": "code",
      "execution_count": null,
      "metadata": {},
      "outputs": [],
      "source": [
        "data_1.isnull().sum()"
      ]
    },
    {
      "cell_type": "code",
      "execution_count": null,
      "metadata": {},
      "outputs": [],
      "source": [
        "data_1.Location = data_1.Location.apply(lambda x: x.strip())\n",
        "location_stats = data_1['Location'].value_counts(ascending=False)\n",
        "location_stats"
      ]
    },
    {
      "cell_type": "code",
      "execution_count": null,
      "metadata": {},
      "outputs": [],
      "source": [
        "location_stats.values.sum()"
      ]
    },
    {
      "cell_type": "code",
      "execution_count": null,
      "metadata": {},
      "outputs": [],
      "source": [
        "len(location_stats[location_stats>10])"
      ]
    },
    {
      "cell_type": "code",
      "execution_count": null,
      "metadata": {},
      "outputs": [],
      "source": [
        "location_stats_less_than_10 = location_stats[location_stats<=10]\n",
        "location_stats_less_than_10"
      ]
    },
    {
      "cell_type": "code",
      "execution_count": null,
      "metadata": {},
      "outputs": [],
      "source": [
        "data_1.Location = data_1.Location.apply(lambda x: 'other' if x in location_stats_less_than_10 else x)\n",
        "len(data_1.Location.unique())"
      ]
    },
    {
      "cell_type": "code",
      "execution_count": null,
      "metadata": {},
      "outputs": [],
      "source": [
        "data_1.head()"
      ]
    },
    {
      "cell_type": "code",
      "execution_count": null,
      "metadata": {
        "id": "w9kGvEIT2KL0"
      },
      "outputs": [],
      "source": [
        "def plot_scatter_chart(df,Location):\n",
        "  bhk1 = df[(df.Location==Location)&(df.bhk==1)]\n",
        "  bhk2 = df[(df.Location==Location)&(df.bhk==2)]\n",
        "  bhk3 = df[(df.Location==Location)&(df.bhk==3)]\n",
        "  matplotlib.rcParams['figure.figsize'] = (15,10)\n",
        "  mp.scatter(bhk1.Area,bhk1.Price,marker='*',color='green',label='1 BHK', s=100)\n",
        "  mp.scatter(bhk2.Area,bhk2.Price,color='blue',label='2 BHK', s=100)\n",
        "  mp.scatter(bhk3.Area,bhk3.Price,marker='+',color='red',label='3 BHK', s=100)\n",
        "  mp.xlabel(\"Total square Feet Area\")\n",
        "  mp.ylabel(\"Price\")\n",
        "  mp.title(Location)\n",
        "  mp.legend()"
      ]
    },
    {
      "cell_type": "code",
      "execution_count": null,
      "metadata": {
        "colab": {
          "base_uri": "https://localhost:8080/",
          "height": 621
        },
        "id": "gXK0AqUW7Pqz",
        "outputId": "27081557-06d2-49f6-91ae-6787e83adc50"
      },
      "outputs": [],
      "source": [
        "plot = plot_scatter_chart(data_1,\"Airoli\")"
      ]
    },
    {
      "cell_type": "code",
      "execution_count": null,
      "metadata": {
        "id": "Mj6UItWM7brA"
      },
      "outputs": [],
      "source": [
        "def remove_bhk_outliers(data):\n",
        "  exclude_indices = np.array([])\n",
        "  for Location, Location_data in data.groupby('Location'):\n",
        "    bhk_stats= {}\n",
        "    for bhk, bhk_data in data.groupby('bhk'):\n",
        "      bhk_stats[bhk] = {\n",
        "          'mean': np.mean(bhk_data.price_per_sqft),\n",
        "          'std' : np.std(bhk_data.price_per_sqft),\n",
        "          'count': bhk_data.shape[0]\n",
        "      }\n",
        "      for bhk,bhk_data in Location_data.groupby('bhk'):\n",
        "        stats = bhk_stats.get(bhk-1)\n",
        "        if stats and stats['count']>5:\n",
        "          exclude_indices = np.append(exclude_indices,bhk_data[bhk_data.price_per_sqft<(stats['mean'])].index.values)\n",
        "    return data.drop(exclude_indices,axis='index')"
      ]
    },
    {
      "cell_type": "code",
      "execution_count": null,
      "metadata": {
        "id": "Q4fHzLYiFIsb"
      },
      "outputs": [],
      "source": [
        "data_1 = remove_bhk_outliers(data_1)"
      ]
    },
    {
      "cell_type": "code",
      "execution_count": null,
      "metadata": {
        "colab": {
          "base_uri": "https://localhost:8080/",
          "height": 621
        },
        "id": "KgvBl1O4FPZ6",
        "outputId": "545bbb9f-748b-4001-9cc8-571629ee5d6b"
      },
      "outputs": [],
      "source": [
        "plot = plot_scatter_chart(data_1,\"Airoli\")"
      ]
    },
    {
      "cell_type": "code",
      "execution_count": null,
      "metadata": {
        "colab": {
          "base_uri": "https://localhost:8080/",
          "height": 614
        },
        "id": "WFnRzN0mFV1Z",
        "outputId": "376c9477-4e53-4a19-f21f-186b90cbe52f"
      },
      "outputs": [],
      "source": [
        "import matplotlib\n",
        "matplotlib.rcParams['figure.figsize'] = (20,10)\n",
        "mp.hist(data_1.price_per_sqft,rwidth=0.5)\n",
        "mp.xlabel(\"Price per Square feet\")\n",
        "mp.ylabel(\"Count\")"
      ]
    },
    {
      "cell_type": "code",
      "execution_count": null,
      "metadata": {
        "colab": {
          "base_uri": "https://localhost:8080/",
          "height": 289
        },
        "id": "5Fmi0QTdkRSc",
        "outputId": "d29edf59-3bd0-41f0-fda0-918298a8ae83"
      },
      "outputs": [],
      "source": [
        "dummies = pd.get_dummies(data_1.Location)\n",
        "dummies.head(3)"
      ]
    },
    {
      "cell_type": "code",
      "execution_count": null,
      "metadata": {
        "colab": {
          "base_uri": "https://localhost:8080/",
          "height": 352
        },
        "id": "dhuA3xrxno7d",
        "outputId": "dfe672db-5d9e-48c7-c0f0-f46e6a680c02"
      },
      "outputs": [],
      "source": [
        "data_2 = pd.concat([data_1,dummies],axis='columns')\n",
        "data_2.head()"
      ]
    },
    {
      "cell_type": "code",
      "execution_count": null,
      "metadata": {
        "id": "mmS7nkJmoKf7"
      },
      "outputs": [],
      "source": [
        "data_2 = data_2.drop(['Location','price_per_sqft'],axis='columns')\n"
      ]
    },
    {
      "cell_type": "code",
      "execution_count": null,
      "metadata": {
        "colab": {
          "base_uri": "https://localhost:8080/",
          "height": 352
        },
        "id": "PHpDWvSbozVB",
        "outputId": "3696c6ac-8ba2-4132-e684-6fe343087e89"
      },
      "outputs": [],
      "source": [
        "data_2.head()"
      ]
    },
    {
      "cell_type": "code",
      "execution_count": null,
      "metadata": {
        "colab": {
          "base_uri": "https://localhost:8080/"
        },
        "id": "m6VxgeBko8H2",
        "outputId": "fbe7ee8a-014a-4cb2-929a-e6bc377f927c"
      },
      "outputs": [],
      "source": [
        "data_2.shape"
      ]
    },
    {
      "cell_type": "code",
      "execution_count": null,
      "metadata": {
        "id": "jq8-3quGpHKv"
      },
      "outputs": [],
      "source": [
        "X = data_2.drop('Price',axis='columns')"
      ]
    },
    {
      "cell_type": "code",
      "execution_count": null,
      "metadata": {
        "colab": {
          "base_uri": "https://localhost:8080/",
          "height": 352
        },
        "id": "gtukbQTxpRyt",
        "outputId": "09f2eb5c-d723-4fd7-b963-545df413e9f4"
      },
      "outputs": [],
      "source": [
        "X.head()"
      ]
    },
    {
      "cell_type": "code",
      "execution_count": null,
      "metadata": {
        "colab": {
          "base_uri": "https://localhost:8080/"
        },
        "id": "FTJCyBYzpVxM",
        "outputId": "fb1ae495-dda6-4025-f6ab-4a1e4a9b8cdc"
      },
      "outputs": [],
      "source": [
        "y = data_2.Price\n",
        "y.head()"
      ]
    },
    {
      "cell_type": "code",
      "execution_count": null,
      "metadata": {
        "id": "rU2Nl81QpeYi"
      },
      "outputs": [],
      "source": [
        "from sklearn.model_selection import train_test_split\n",
        "X_train, X_test, y_train, y_test = train_test_split(X,y,test_size=0.2,random_state=3,shuffle = True)"
      ]
    },
    {
      "cell_type": "code",
      "execution_count": null,
      "metadata": {
        "colab": {
          "base_uri": "https://localhost:8080/"
        },
        "id": "HwGpBP8Gp9hj",
        "outputId": "a3ba7f94-91a6-4cca-fccb-3b03dca6e21e"
      },
      "outputs": [],
      "source": [
        "from sklearn.linear_model import LinearRegression\n",
        "lr_clf = LinearRegression()\n",
        "lr_clf.fit(X_train,y_train)\n",
        "lr_clf.score(X_test,y_test)"
      ]
    },
    {
      "cell_type": "code",
      "execution_count": null,
      "metadata": {
        "colab": {
          "base_uri": "https://localhost:8080/"
        },
        "id": "Lqfa-LrBqbV_",
        "outputId": "8b73bcba-9339-4e87-dc92-b31759e52bb8"
      },
      "outputs": [],
      "source": [
        "from sklearn.model_selection import ShuffleSplit\n",
        "from sklearn.model_selection import cross_val_score\n",
        "\n",
        "cv = ShuffleSplit(n_splits=5, test_size=0.2,random_state=3)\n",
        "cross_val_score(LinearRegression(),X,y,cv=cv)"
      ]
    },
    {
      "cell_type": "code",
      "execution_count": null,
      "metadata": {},
      "outputs": [],
      "source": [
        "from sklearn.pipeline import make_pipeline\n",
        "from sklearn.preprocessing import StandardScaler\n",
        "model = make_pipeline(StandardScaler(with_mean=False), LinearRegression())"
      ]
    },
    {
      "cell_type": "code",
      "execution_count": null,
      "metadata": {
        "colab": {
          "base_uri": "https://localhost:8080/",
          "height": 1000
        },
        "id": "Cy6ugboGrJs8",
        "outputId": "83edb187-0dbc-42e1-aabb-a5199d532ac1"
      },
      "outputs": [],
      "source": [
        "from sklearn.model_selection import GridSearchCV\n",
        "from sklearn.linear_model import Lasso\n",
        "from sklearn.tree import DecisionTreeRegressor\n",
        "\n",
        "def find_best_model(X,y):\n",
        "  algos = {\n",
        "      'linear_regression':{\n",
        "          'model': LinearRegression(),\n",
        "          'params':{\n",
        "              'normalize':[True,False]\n",
        "          }\n",
        "      },\n",
        "      \n",
        "      'lasso':{\n",
        "          'model': Lasso(),\n",
        "          'params':{\n",
        "              'alpha':[1,2],\n",
        "              'selection':['random','cyclic']\n",
        "          }\n",
        "      },\n",
        "\n",
        "      'decision_tree':{\n",
        "          'model':DecisionTreeRegressor(),\n",
        "          'params':{\n",
        "              'criterion': ['mse','friedman_mse'],\n",
        "              'splitter' : ['best','random']\n",
        "          }\n",
        "      }\n",
        "  }\n",
        "  scores= []\n",
        "  cv = ShuffleSplit(n_splits=5, test_size = 0.2, random_state= 0)\n",
        "  for algo_name,config in algos.items():\n",
        "    gs = GridSearchCV(config['model'],config['params'],cv = cv, return_train_score=False)\n",
        "    gs.fit(X,y)\n",
        "    scores.append({\n",
        "        'model': algo_name,\n",
        "        'best_score': gs.best_score_,\n",
        "        'best_params': gs.best_params_\n",
        "    })\n",
        "  return pd.DataFrame(scores,columns=['model','best_score','best_params'])\n",
        "\n",
        "find_best_model(X,y)"
      ]
    },
    {
      "cell_type": "code",
      "execution_count": null,
      "metadata": {
        "colab": {
          "base_uri": "https://localhost:8080/"
        },
        "id": "FTwR2TVquhRt",
        "outputId": "c9238d6e-49ed-4379-ee49-5775ba078bdc"
      },
      "outputs": [],
      "source": [
        "X.columns"
      ]
    },
    {
      "cell_type": "code",
      "execution_count": null,
      "metadata": {
        "id": "q4QqsGcsvlwe"
      },
      "outputs": [],
      "source": [
        "def predict(Location,Area,bhk,Lift,Parking):\n",
        "  loc_index = np.where(X.columns==Location)[0][0]\n",
        "\n",
        "  x = np.zeros(len(X.columns))\n",
        "  x[0] = Area\n",
        "  x[1] = bhk\n",
        "  x[2] = Lift\n",
        "  x[3] = Parking\n",
        "  if loc_index >=0:\n",
        "    x[loc_index] = 1\n",
        "  return lr_clf.predict([x])[0]"
      ]
    },
    {
      "cell_type": "code",
      "execution_count": null,
      "metadata": {
        "colab": {
          "base_uri": "https://localhost:8080/"
        },
        "id": "hnzAMPemxZEu",
        "outputId": "ac1d8138-79c5-4e7e-f13f-2da07d2f10d3"
      },
      "outputs": [],
      "source": [
        "predict('Kharghar',720,1,1,1)"
      ]
    },
    {
      "cell_type": "code",
      "execution_count": null,
      "metadata": {
        "colab": {
          "base_uri": "https://localhost:8080/"
        },
        "id": "U5OvvnDdx-wW",
        "outputId": "511aeac6-4e3e-4eb5-9b14-d8804fc2bf56"
      },
      "outputs": [],
      "source": [
        "predict('Andheri East',700,2,1,0)"
      ]
    },
    {
      "cell_type": "code",
      "execution_count": null,
      "metadata": {},
      "outputs": [],
      "source": [
        "import pickle\n",
        "with open(\"Price_prediction_model.pickle\",\"wb\") as f:\n",
        "    pickle.dump(lr_clf,f)"
      ]
    },
    {
      "cell_type": "code",
      "execution_count": null,
      "metadata": {},
      "outputs": [],
      "source": [
        "import json\n",
        "columns = {\n",
        "    'data_columns': [col.lower() for col in X.columns]\n",
        "}\n",
        "with open(\"columns.json\",\"w\") as f:\n",
        "    f.write(json.dumps(columns))"
      ]
    },
    {
      "cell_type": "code",
      "execution_count": null,
      "metadata": {
        "id": "MQTGk-HY3jqP"
      },
      "outputs": [],
      "source": [
        "import joblib\n",
        "joblib.dump(lr_clf,'price_predict_model.pkl')"
      ]
    }
  ],
  "metadata": {
    "colab": {
      "collapsed_sections": [],
      "provenance": []
    },
    "kernelspec": {
      "display_name": "Python 3.10.5 64-bit",
      "language": "python",
      "name": "python3"
    },
    "language_info": {
      "codemirror_mode": {
        "name": "ipython",
        "version": 3
      },
      "file_extension": ".py",
      "mimetype": "text/x-python",
      "name": "python",
      "nbconvert_exporter": "python",
      "pygments_lexer": "ipython3",
      "version": "3.10.5"
    },
    "vscode": {
      "interpreter": {
        "hash": "369f2c481f4da34e4445cda3fffd2e751bd1c4d706f27375911949ba6bb62e1c"
      }
    }
  },
  "nbformat": 4,
  "nbformat_minor": 0
}
